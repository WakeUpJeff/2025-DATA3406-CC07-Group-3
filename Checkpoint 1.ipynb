{
 "cells": [
  {
   "cell_type": "markdown",
   "id": "2a7f544d",
   "metadata": {},
   "source": [
    "# Checkpoint 1 – Jeff Sui\n",
    "# Personal Data Exploration (Individual Checkpoint 1)\n",
    "\n",
    "\n",
    "**Group ID:** Group 3  \n",
    "**Driving Problem:** *Do they achieve 15 minutes of intense activity across different times of day (morning, afternoon, evening)?*  \n",
    "\n",
    "This notebook performs exploratory data analysis (EDA) for the three assigned participants:\n",
    "- **1503960366**\n",
    "- **1624580081**\n",
    "- **1644430081**\n",
    "\n",
    "\n",
    "---\n",
    "\n",
    "## Overview of the notebook\n",
    "This notebook:\n",
    "1. Loads daily and minute-level step data from the provided CSV files.\n",
    "2. Performs **manual-scrutiny-aligned** checks (completeness, gaps, non-wear zeros).\n",
    "3. Presents participant-level summaries using functions (to avoid repetitive code).\n",
    "4. Connects findings back to the **driving problem** about achieving 15 consecutive minutes of intense activity in morning/afternoon/evening.\n",
    "\n"
   ]
  },
  {
   "cell_type": "markdown",
   "id": "51e8bf7d",
   "metadata": {},
   "source": [
    "## Assumptions & Predictions\n",
    "\n",
    "### Assumptions\n",
    "- **Intensity proxy:** “Intense activity” ≙ **consecutive non-zero step minutes ≥ 15** within a time bin.\n",
    "- **Time bins (inclusive):**\n",
    "  - **Morning:** 06:00:00–11:59:59  \n",
    "  - **Afternoon:** 12:00:00–17:59:59  \n",
    "  - **Evening:** 18:00:00–23:59:59\n",
    "- **Minute data format:** `minuteStepsWide_merged.csv` has an `Id` column and many timestamp-named columns (wide). We will **melt** to long format (`Id`, `dt`, `Steps`).\n",
    "- **Timestamps/timezone:** Timestamps are treated as local clock time for the analysis window. If your raw data is UTC, adjust to local first (Sydney) **before** binning.\n",
    "- **Missing values:** Treated as zero for the “consecutive non-zero steps” logic (i.e., missing breaks a streak).\n",
    "- **Participants:** We focus only on the three assigned IDs: `1503960366, 1624580081, 1644430081`.\n",
    "\n",
    "### Predictions\n",
    "- Participants will **most often** achieve 15-minute streaks in the **afternoon**, with **morning** second, and **evening** least frequent.  \n",
    "- Streak frequency will vary by person and by day; weekends may show **slightly higher** afternoon streaks.\n"
   ]
  },
  {
   "cell_type": "markdown",
   "id": "411534fc",
   "metadata": {},
   "source": [
    "### Data Loading (Daily + Minute) and Filtering to Assigned IDs\n",
    "We load the two provided CSVs and filter rows to the three assigned participants to keep the scope aligned with the brief.\n"
   ]
  },
  {
   "cell_type": "code",
   "execution_count": 231,
   "id": "af4a75df",
   "metadata": {},
   "outputs": [],
   "source": [
    "import pandas as pd\n",
    "\n",
    "# Load data\n",
    "daily_steps = pd.read_csv(\"Data/dailySteps_merged.csv\")\n",
    "minute_steps = pd.read_csv(\"Data/minuteStepsWide_merged.csv\")\n",
    "\n",
    "# Initilise assigned id\n",
    "participants = [1503960366, 1624580081, 1644430081]\n"
   ]
  },
  {
   "cell_type": "markdown",
   "id": "63826c7f",
   "metadata": {},
   "source": [
    "### Define function to perform metric calculation:\n",
    "average step count per day\\\n",
    "maximum step count\\\n",
    "minimum step count"
   ]
  },
  {
   "cell_type": "code",
   "execution_count": 232,
   "id": "b113a592",
   "metadata": {},
   "outputs": [],
   "source": [
    "\n",
    "# Define functino to calculate required metrics for daily\n",
    "def summarize_daily(person_id):\n",
    "    person = daily_steps[daily_steps[\"Id\"] == person_id]\n",
    "    num_days = person[\"ActivityDay\"].nunique()\n",
    "    avg_steps = round(person[\"StepTotal\"].mean())\n",
    "    max_steps = person[\"StepTotal\"].max()\n",
    "    min_steps = person[\"StepTotal\"].min()\n",
    "    return {\n",
    "        \"Days\": num_days,\n",
    "        \"Avg Steps/Day\": round(avg_steps,2),\n",
    "        \"Max Steps/Day\": max_steps,\n",
    "        \"Min Steps/Day\": min_steps,\n",
    "    }\n"
   ]
  },
  {
   "cell_type": "markdown",
   "id": "e215f986",
   "metadata": {},
   "source": [
    "### Define function to perform metric calculation:\n",
    "number of non-zero minutes\\\n",
    "missing data\\\n",
    "average steps per minute\\\n",
    "maximum and minimum steps"
   ]
  },
  {
   "cell_type": "code",
   "execution_count": 233,
   "id": "eafdb425",
   "metadata": {},
   "outputs": [],
   "source": [
    "\n",
    "# Define functino to calculate required metrics for minutes\n",
    "def summarize_minutes(person_id):\n",
    "    person = minute_steps[minute_steps[\"Id\"] == person_id]\n",
    "    steps = person.iloc[:,2:].values.flatten()  # all minute columns\n",
    "    non_zero = (steps > 0).sum()\n",
    "    missing = pd.isna(steps).sum()\n",
    "    avg_steps = steps.mean()\n",
    "    max_steps = steps.max()\n",
    "    min_steps = steps.min()\n",
    "    return {\n",
    "        \"Non-zero Minutes\": int(non_zero),\n",
    "        \"Missing Data\": int(missing),\n",
    "        \"Avg Steps/Min\": round(avg_steps,2),\n",
    "        \"Max Steps/Min\": max_steps,\n",
    "        \"Min Steps/Min\": min_steps,\n",
    "    }\n"
   ]
  },
  {
   "cell_type": "markdown",
   "id": "3354ff90",
   "metadata": {},
   "source": [
    "### Display daily summary for each participant:"
   ]
  },
  {
   "cell_type": "code",
   "execution_count": 234,
   "id": "5b85202d",
   "metadata": {},
   "outputs": [
    {
     "name": "stdout",
     "output_type": "stream",
     "text": [
      "\n",
      "Participant 1503960366\n",
      "Daily Summary:\n",
      " {'Days': 31, 'Avg Steps/Day': 12117, 'Max Steps/Day': 18134, 'Min Steps/Day': 0}\n",
      "\n",
      "Participant 1624580081\n",
      "Daily Summary:\n",
      " {'Days': 31, 'Avg Steps/Day': 5744, 'Max Steps/Day': 36019, 'Min Steps/Day': 1510}\n",
      "\n",
      "Participant 1644430081\n",
      "Daily Summary:\n",
      " {'Days': 30, 'Avg Steps/Day': 7283, 'Max Steps/Day': 18213, 'Min Steps/Day': 1223}\n"
     ]
    }
   ],
   "source": [
    "\n",
    "# Run summaries for each participant\n",
    "for pid in participants:\n",
    "    print(f\"\\nParticipant {pid}\")\n",
    "    print(\"Daily Summary:\\n\", summarize_daily(pid))\n"
   ]
  },
  {
   "cell_type": "markdown",
   "id": "eb50f2fd",
   "metadata": {},
   "source": [
    "## Daily Step Summary\n",
    "\n",
    "| Participant ID | Days | Avg Steps/Day | Max Steps/Day | Min Steps/Day |\n",
    "|----------------|------|---------------|---------------|---------------|\n",
    "| **1503960366** | 31   | 12,117        | 18,134        | 0             |\n",
    "| **1624580081** | 31   | 5,744         | 36,019        | 1,510         |\n",
    "| **1644430081** | 30   | 7,283         | 18,213        | 1,223         |\n"
   ]
  },
  {
   "cell_type": "markdown",
   "id": "472ee68a",
   "metadata": {},
   "source": [
    "## Observations for daily step count:\n",
    "**Participant 1503960366**\n",
    "\n",
    "With a high daily average (12,117 steps) and several zero-step days, this participant likely engages in consistent activity on active days, but with some complete inactivity days.\n",
    "\n",
    "They are the most likely among the three to reach 15-minute intense streaks, especially on their higher-step days.\n",
    "\n",
    "**Participant 1624580081**\n",
    "\n",
    "Shows the widest variability (daily steps range from 1,510 to 36,019).\n",
    "\n",
    "The occasional very high activity days suggest that this participant might reach 15-minute streaks on those days, but their low overall average (5,744 steps) indicates they may struggle with consistency in hitting the target across all time bins.\n",
    "\n",
    "**Participant 1644430081**\n",
    "\n",
    "Displays moderate consistency with an average of 7,283 steps/day and a narrower range than Participant 1624580081.\n",
    "\n",
    "Likely to achieve 15-minute streaks more regularly than 1624580081 but less consistently than 1503960366, perhaps with steady but not extreme activity patterns."
   ]
  },
  {
   "cell_type": "markdown",
   "id": "7d5e8813",
   "metadata": {},
   "source": [
    "### Display minute summary for each participant:"
   ]
  },
  {
   "cell_type": "code",
   "execution_count": 235,
   "id": "ad9acc4a",
   "metadata": {},
   "outputs": [
    {
     "name": "stdout",
     "output_type": "stream",
     "text": [
      "\n",
      "Participant 1503960366\n",
      "Minute Summary:\n",
      " {'Non-zero Minutes': 8311, 'Missing Data': 0, 'Avg Steps/Min': 8.56, 'Max Steps/Min': 165, 'Min Steps/Min': 0}\n",
      "\n",
      "Participant 1624580081\n",
      "Minute Summary:\n",
      " {'Non-zero Minutes': 3679, 'Missing Data': 0, 'Avg Steps/Min': 3.98, 'Max Steps/Min': 184, 'Min Steps/Min': 0}\n",
      "\n",
      "Participant 1644430081\n",
      "Minute Summary:\n",
      " {'Non-zero Minutes': 5978, 'Missing Data': 0, 'Avg Steps/Min': 5.05, 'Max Steps/Min': 134, 'Min Steps/Min': 0}\n"
     ]
    }
   ],
   "source": [
    "\n",
    "# Run summaries for each participant\n",
    "for pid in participants:\n",
    "    print(f\"\\nParticipant {pid}\")\n",
    "    print(\"Minute Summary:\\n\", summarize_minutes(pid))\n"
   ]
  },
  {
   "cell_type": "markdown",
   "id": "9e2655b5",
   "metadata": {},
   "source": [
    "## Minute Step Summary\n",
    "\n",
    "| Participant ID | Non-zero Minutes | Missing Data | Avg Steps/Min | Max Steps/Min | Min Steps/Min |\n",
    "|----------------|------------------|--------------|---------------|---------------|---------------|\n",
    "| **1503960366** | 8,311            | 0            | 8.56          | 165           | 0             |\n",
    "| **1624580081** | 3,679            | 0            | 3.98          | 184           | 0             |\n",
    "| **1644430081** | 5,978            | 0            | 5.05          | 134           | 0             |\n"
   ]
  },
  {
   "cell_type": "markdown",
   "id": "8bd29629",
   "metadata": {},
   "source": [
    "## Observations for minutes step count:\n",
    "**Participant 1503960366**\n",
    "\n",
    "With high overall activity and a maximum of 165 steps per minute, this participant is very likely to regularly achieve 15-minute streaks of intense activity, especially in the afternoon.\n",
    "\n",
    "**Participant 1624580081**\n",
    "\n",
    "Despite occasional very high bursts (up to 184 steps per minute), their low average suggests that 15-minute streaks are achieved only sporadically and not consistently across all time bins.\n",
    "\n",
    "**Participant 1644430081**\n",
    "\n",
    "With moderate average steps per minute and sustained non-zero activity, this participant can achieve 15-minute streaks at times, but less reliably than 1503960366."
   ]
  },
  {
   "cell_type": "markdown",
   "id": "a7038acd",
   "metadata": {},
   "source": [
    "# Final Statement\n",
    "\n",
    "From this data exploration, I learnt that the three participants show **different patterns of activity intensity and consistency**.  \n",
    "- **1503960366** has strong daily averages and sustained cadence, making them the most likely to consistently achieve 15-minute streaks of intense activity, especially in the afternoon.  \n",
    "- **1624580081** shows very high variability with occasional bursts but low regularity, meaning 15-minute streaks are only achieved sporadically.  \n",
    "- **1644430081** has steady but moderate activity, suggesting they sometimes reach the 15-minute threshold but not as reliably as 1503960366.  \n",
    "\n",
    "In relation to the **Driving Problem** — *Do they achieve 15 minutes of intense activity across different times of day (morning, afternoon, evening)?* — the analysis shows that while all three participants are capable of meeting the target, only one does so consistently. The others may need to adjust their routines, such as scheduling activity in morning or evening bins, to reliably meet the 15-minute goal.\n"
   ]
  }
 ],
 "metadata": {
  "kernelspec": {
   "display_name": "Python 3",
   "language": "python",
   "name": "python3"
  },
  "language_info": {
   "codemirror_mode": {
    "name": "ipython",
    "version": 3
   },
   "file_extension": ".py",
   "mimetype": "text/x-python",
   "name": "python",
   "nbconvert_exporter": "python",
   "pygments_lexer": "ipython3",
   "version": "3.10.2"
  }
 },
 "nbformat": 4,
 "nbformat_minor": 5
}
