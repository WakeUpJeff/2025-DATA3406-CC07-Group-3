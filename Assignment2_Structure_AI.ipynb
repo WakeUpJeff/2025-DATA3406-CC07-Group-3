{
 "cells": [
  {
   "cell_type": "markdown",
   "id": "dc5fcccc",
   "metadata": {},
   "source": [
    "# Assignment 2 — Product Notebook (GROUP 3)  \n",
    "**Unit:** DATA3406 / DATA2002  \n",
    "**Date:** 2025-10-23  \n",
    "**Repository:** _[Link to GitHub repo]_  \n",
    "**Team:** _[List names & roles: Manager, Tracker, etc.]_\n",
    "\n",
    "---\n",
    "\n",
    "## Driving Problem\n",
    "> _Do they achieve 15 minutes of intense activity across different times of day (morning, afternoon, evening)?_\n",
    "\n",
    "**Why it matters (1 sentence):** _[Brief statement]_\n",
    "\n",
    "**Notebook Purpose (overview):** This group Product Notebook presents the full pipeline — from raw Fitbit data to cleaned datasets, descriptive analytics, analysis aligned to the driving problem, and a concise answer supported by figures, tables, and algebra.\n",
    "\n",
    "> **Note:** Ethical analysis, stakeholder analysis, and data characterisation are documented in the repository README and Wiki. This notebook references those materials where relevant."
   ]
  },
  {
   "cell_type": "markdown",
   "id": "57903319",
   "metadata": {},
   "source": [
    "## Reproducibility & How to Run"
   ]
  },
  {
   "cell_type": "markdown",
   "id": "9bab3ac1",
   "metadata": {},
   "source": [
    "- Place the supplied CSV files under the `data/` directory:  \n",
    "  - `data/dailySteps_merged.csv`  \n",
    "  - `data/hourlySteps_merged.csv`  \n",
    "  - `data/minuteStepsWide_merged.csv`  \n",
    "- Python 3.11+ recommended.  \n",
    "- Run all cells in order (top to bottom).  \n",
    "- Dependencies: `pandas`, `numpy`, `matplotlib`.  \n",
    "- This notebook uses **matplotlib only** for plotting."
   ]
  },
  {
   "cell_type": "markdown",
   "id": "d846f312",
   "metadata": {},
   "source": [
    "## Environment Setup & Imports"
   ]
  },
  {
   "cell_type": "markdown",
   "id": "e03bc1b8",
   "metadata": {},
   "source": [
    "**Assumptions & Predictions**  \n",
    "- _Assumptions:_ We will use standard scientific Python libraries and configure matplotlib defaults for a consistent look.  \n",
    "- _Predictions:_ We will use standard scientific Python libraries and configure matplotlib defaults for a consistent look."
   ]
  },
  {
   "cell_type": "markdown",
   "id": "6c670329",
   "metadata": {},
   "source": [
    "**Authorship & GAI use**  \n",
    "- Author(s): _[Full Name(s)]_  \n",
    "- Pair Programming: _[Name(s) if applicable]_  \n",
    "- GAI/External Help: _[Describe prompts, tools, and assistance used; include date]_"
   ]
  },
  {
   "cell_type": "code",
   "execution_count": null,
   "id": "76f6a37a",
   "metadata": {},
   "outputs": [],
   "source": [
    "# Imports & basic configuration\n",
    "import os\n",
    "import numpy as np\n",
    "import pandas as pd\n",
    "import matplotlib.pyplot as plt\n",
    "\n",
    "# Matplotlib default sizing for visual consistency across the notebook\n",
    "plt.rcParams['figure.figsize'] = (8, 4.5)\n",
    "plt.rcParams['axes.titlesize'] = 12\n",
    "plt.rcParams['axes.labelsize'] = 11\n",
    "plt.rcParams['legend.fontsize'] = 10\n",
    "plt.rcParams['xtick.labelsize'] = 10\n",
    "plt.rcParams['ytick.labelsize'] = 10\n",
    "\n",
    "# Project constants\n",
    "DATA_DIR = \"data\"  # per project convention\n",
    "DAILY_PATH = os.path.join(DATA_DIR, \"dailySteps_merged.csv\")\n",
    "HOURLY_PATH = os.path.join(DATA_DIR, \"hourlySteps_merged.csv\")\n",
    "MINUTE_WIDE_PATH = os.path.join(DATA_DIR, \"minuteStepsWide_merged.csv\")\n",
    "\n",
    "# Utility: simple guard to check files exist\n",
    "for p in [DAILY_PATH, HOURLY_PATH, MINUTE_WIDE_PATH]:\n",
    "    print(f\"Found: {p} ->\", os.path.exists(p))"
   ]
  },
  {
   "cell_type": "markdown",
   "id": "bcf3198b",
   "metadata": {},
   "source": [
    "**Observation & Interpretation**  \n",
    "- _What changed / what do the results show?_ Imports succeed and plotting defaults are set. Data file presence is reported.  \n",
    "- _Implications for driving problem:_ [Explain how this step moves us toward answering the question.]"
   ]
  },
  {
   "cell_type": "markdown",
   "id": "6e7d6f70",
   "metadata": {},
   "source": [
    "## Utility Functions"
   ]
  },
  {
   "cell_type": "markdown",
   "id": "c88047c7",
   "metadata": {},
   "source": [
    "**Assumptions & Predictions**  \n",
    "- _Assumptions:_ Wrapping repeated routines as functions improves clarity and avoids duplicate code.  \n",
    "- _Predictions:_ Wrapping repeated routines as functions improves clarity and avoids duplicate code."
   ]
  },
  {
   "cell_type": "markdown",
   "id": "c1026f3b",
   "metadata": {},
   "source": [
    "**Authorship & GAI use**  \n",
    "- Author(s): _[Full Name(s)]_  \n",
    "- Pair Programming: _[Name(s) if applicable]_  \n",
    "- GAI/External Help: _[Describe prompts, tools, and assistance used; include date]_"
   ]
  },
  {
   "cell_type": "code",
   "execution_count": null,
   "id": "4da1abc6",
   "metadata": {},
   "outputs": [],
   "source": [
    "from typing import Tuple, Dict\n",
    "\n",
    "def load_csvs(daily_path: str, hourly_path: str, minute_wide_path: str) -> Dict[str, pd.DataFrame]:\n",
    "    dfs = {\n",
    "        \"daily\": pd.read_csv(daily_path),\n",
    "        \"hourly\": pd.read_csv(hourly_path),\n",
    "        \"minute_wide\": pd.read_csv(minute_wide_path)\n",
    "    }\n",
    "    return dfs\n",
    "\n",
    "def ensure_datetime(df: pd.DataFrame, cols: list) -> pd.DataFrame:\n",
    "    for c in cols:\n",
    "        if c in df.columns:\n",
    "            df[c] = pd.to_datetime(df[c], errors='coerce')\n",
    "    return df\n",
    "\n",
    "def label_time_of_day(ts: pd.Timestamp) -> str:\n",
    "    h = ts.hour\n",
    "    if 5 <= h < 12: return \"morning\"\n",
    "    if 12 <= h < 17: return \"afternoon\"\n",
    "    if 17 <= h < 23: return \"evening\"\n",
    "    return \"night\"  # retained for completeness, may be excluded later depending on design"
   ]
  },
  {
   "cell_type": "markdown",
   "id": "cc49fdcf",
   "metadata": {},
   "source": [
    "**Observation & Interpretation**  \n",
    "- _What changed / what do the results show?_ Reusable helpers defined for loading data, datetime conversion, and time-of-day labeling.  \n",
    "- _Implications for driving problem:_ [Explain how this step moves us toward answering the question.]"
   ]
  },
  {
   "cell_type": "markdown",
   "id": "a9d4f906",
   "metadata": {},
   "source": [
    "## Manual Scrutiny of Data (Reference)"
   ]
  },
  {
   "cell_type": "markdown",
   "id": "e380955d",
   "metadata": {},
   "source": [
    "Before running code, manually open the CSVs in a text editor/Excel to scan for separators, header rows, NA patterns, and oddities.  \n",
    "Document notes in the Wiki/README as per the spec. This cell serves as a reminder and cross-reference."
   ]
  },
  {
   "cell_type": "markdown",
   "id": "a5da49fe",
   "metadata": {},
   "source": [
    "## Load Data"
   ]
  },
  {
   "cell_type": "markdown",
   "id": "2d69a2d0",
   "metadata": {},
   "source": [
    "**Assumptions & Predictions**  \n",
    "- _Assumptions:_ Files exist under `data/` and standard CSV parsing will succeed.  \n",
    "- _Predictions:_ Files exist under `data/` and standard CSV parsing will succeed."
   ]
  },
  {
   "cell_type": "markdown",
   "id": "d419a725",
   "metadata": {},
   "source": [
    "**Authorship & GAI use**  \n",
    "- Author(s): _[Full Name(s)]_  \n",
    "- Pair Programming: _[Name(s) if applicable]_  \n",
    "- GAI/External Help: _[Describe prompts, tools, and assistance used; include date]_"
   ]
  },
  {
   "cell_type": "code",
   "execution_count": null,
   "id": "001a30e0",
   "metadata": {},
   "outputs": [],
   "source": [
    "dfs = load_csvs(DAILY_PATH, HOURLY_PATH, MINUTE_WIDE_PATH)\n",
    "\n",
    "for name, df in dfs.items():\n",
    "    print(name, df.shape)\n",
    "    display(df.head(3))"
   ]
  },
  {
   "cell_type": "markdown",
   "id": "a08b530d",
   "metadata": {},
   "source": [
    "**Observation & Interpretation**  \n",
    "- _What changed / what do the results show?_ DataFrames loaded with expected shapes; quick head checks clarify schema.  \n",
    "- _Implications for driving problem:_ [Explain how this step moves us toward answering the question.]"
   ]
  },
  {
   "cell_type": "markdown",
   "id": "368b4971",
   "metadata": {},
   "source": [
    "## Clean & Harmonise Data"
   ]
  },
  {
   "cell_type": "markdown",
   "id": "d20e788a",
   "metadata": {},
   "source": [
    "**Assumptions & Predictions**  \n",
    "- _Assumptions:_ We will parse datetime columns and standardise column names as needed.  \n",
    "- _Predictions:_ We will parse datetime columns and standardise column names as needed."
   ]
  },
  {
   "cell_type": "markdown",
   "id": "dc1fa1fd",
   "metadata": {},
   "source": [
    "**Authorship & GAI use**  \n",
    "- Author(s): _[Full Name(s)]_  \n",
    "- Pair Programming: _[Name(s) if applicable]_  \n",
    "- GAI/External Help: _[Describe prompts, tools, and assistance used; include date]_"
   ]
  },
  {
   "cell_type": "code",
   "execution_count": null,
   "id": "9e9cd39f",
   "metadata": {},
   "outputs": [],
   "source": [
    "daily = dfs[\"daily\"].copy()\n",
    "hourly = dfs[\"hourly\"].copy()\n",
    "minute_wide = dfs[\"minute_wide\"].copy()\n",
    "\n",
    "# Example: normalise datetime columns (placeholders; adjust to actual column names)\n",
    "daily = ensure_datetime(daily, [c for c in daily.columns if \"date\" in c.lower() or \"time\" in c.lower()])\n",
    "hourly = ensure_datetime(hourly, [c for c in hourly.columns if \"date\" in c.lower() or \"time\" in c.lower()])\n",
    "minute_wide = ensure_datetime(minute_wide, [c for c in minute_wide.columns if \"date\" in c.lower() or \"time\" in c.lower()])\n",
    "\n",
    "# Example: standardise id column naming (adjust to actual column names in dataset)\n",
    "for df in [daily, hourly, minute_wide]:\n",
    "    for c in df.columns:\n",
    "        if c.lower() in {\"id\", \"memberid\", \"participantid\"}:\n",
    "            df.rename(columns={c: \"Id\"}, inplace=True)\n",
    "\n",
    "print(\"Columns after harmonisation:\")\n",
    "print(\"daily:\", list(daily.columns)[:8], \"...\")\n",
    "print(\"hourly:\", list(hourly.columns)[:8], \"...\")\n",
    "print(\"minute_wide:\", list(minute_wide.columns)[:8], \"...\")"
   ]
  },
  {
   "cell_type": "markdown",
   "id": "9ce930c1",
   "metadata": {},
   "source": [
    "**Observation & Interpretation**  \n",
    "- _What changed / what do the results show?_ Datetime parsing applied; IDs harmonised; columns inspected for downstream alignment.  \n",
    "- _Implications for driving problem:_ [Explain how this step moves us toward answering the question.]"
   ]
  },
  {
   "cell_type": "markdown",
   "id": "f13e00de",
   "metadata": {},
   "source": [
    "## Define Intensity & Adherence Rules"
   ]
  },
  {
   "cell_type": "markdown",
   "id": "4b716bdb",
   "metadata": {},
   "source": [
    "**Assumptions & Predictions**  \n",
    "- _Assumptions:_ We adopt a literature-informed threshold for 'intense' minute counts and define morning/afternoon/evening bins.  \n",
    "- _Predictions:_ We adopt a literature-informed threshold for 'intense' minute counts and define morning/afternoon/evening bins."
   ]
  },
  {
   "cell_type": "markdown",
   "id": "d18d077d",
   "metadata": {},
   "source": [
    "**Authorship & GAI use**  \n",
    "- Author(s): _[Full Name(s)]_  \n",
    "- Pair Programming: _[Name(s) if applicable]_  \n",
    "- GAI/External Help: _[Describe prompts, tools, and assistance used; include date]_"
   ]
  },
  {
   "cell_type": "code",
   "execution_count": null,
   "id": "c761ca99",
   "metadata": {},
   "outputs": [],
   "source": [
    "# Placeholders; replace with group-agreed definitions and citations in README/Wiki\n",
    "INTENSE_STEPS_PER_MIN = 100  # EXAMPLE PLACEHOLDER\n",
    "INTENSE_WINDOW_MINUTES = 15\n",
    "\n",
    "TIME_OF_DAY_BINS = [\"morning\", \"afternoon\", \"evening\"]  # we may exclude 'night' for our driving question\n",
    "print(\"Intensity definition and time-of-day bins set.\")"
   ]
  },
  {
   "cell_type": "markdown",
   "id": "c63e6713",
   "metadata": {},
   "source": [
    "**Observation & Interpretation**  \n",
    "- _What changed / what do the results show?_ Rules are explicit and centralised for transparency and later revision.  \n",
    "- _Implications for driving problem:_ [Explain how this step moves us toward answering the question.]"
   ]
  },
  {
   "cell_type": "markdown",
   "id": "47d2a26d",
   "metadata": {},
   "source": [
    "## Transform: Compute Intense Activity by Time-of-Day"
   ]
  },
  {
   "cell_type": "markdown",
   "id": "57af785f",
   "metadata": {},
   "source": [
    "**Assumptions & Predictions**  \n",
    "- _Assumptions:_ Hourly or minute-level data provide sufficient granularity to compute continuous intense windows.  \n",
    "- _Predictions:_ Hourly or minute-level data provide sufficient granularity to compute continuous intense windows."
   ]
  },
  {
   "cell_type": "markdown",
   "id": "a318f456",
   "metadata": {},
   "source": [
    "**Authorship & GAI use**  \n",
    "- Author(s): _[Full Name(s)]_  \n",
    "- Pair Programming: _[Name(s) if applicable]_  \n",
    "- GAI/External Help: _[Describe prompts, tools, and assistance used; include date]_"
   ]
  },
  {
   "cell_type": "code",
   "execution_count": null,
   "id": "769d1f98",
   "metadata": {},
   "outputs": [],
   "source": [
    "# Placeholder sketch: reshape minute_wide to long, compute rolling windows, label time-of-day\n",
    "# NOTE: Replace with actual column names and logic based on minute_wide schema.\n",
    "long_minutes = minute_wide.copy()  # TODO: melt to long format if in wide\n",
    "\n",
    "# Example function placeholders\n",
    "def is_intense(steps_per_min: float) -> bool:\n",
    "    return steps_per_min >= INTENSE_STEPS_PER_MIN\n",
    "\n",
    "# TODO: compute continuous 15-minute windows meeting is_intense, then map to time-of-day via timestamp\n",
    "print(\"Placeholder transformation complete (implement real logic).\")"
   ]
  },
  {
   "cell_type": "markdown",
   "id": "5c7e211d",
   "metadata": {},
   "source": [
    "**Observation & Interpretation**  \n",
    "- _What changed / what do the results show?_ We will verify that windows are correctly identified and binned to morning/afternoon/evening.  \n",
    "- _Implications for driving problem:_ [Explain how this step moves us toward answering the question.]"
   ]
  },
  {
   "cell_type": "markdown",
   "id": "02fd11a1",
   "metadata": {},
   "source": [
    "## Descriptive Analytics"
   ]
  },
  {
   "cell_type": "markdown",
   "id": "bc6647ea",
   "metadata": {},
   "source": [
    "**Assumptions & Predictions**  \n",
    "- _Assumptions:_ Basic summaries will inform data quality and prevalence of intense windows across participants/time.  \n",
    "- _Predictions:_ Basic summaries will inform data quality and prevalence of intense windows across participants/time."
   ]
  },
  {
   "cell_type": "markdown",
   "id": "8e528645",
   "metadata": {},
   "source": [
    "**Authorship & GAI use**  \n",
    "- Author(s): _[Full Name(s)]_  \n",
    "- Pair Programming: _[Name(s) if applicable]_  \n",
    "- GAI/External Help: _[Describe prompts, tools, and assistance used; include date]_"
   ]
  },
  {
   "cell_type": "code",
   "execution_count": null,
   "id": "f1b030cc",
   "metadata": {},
   "outputs": [],
   "source": [
    "# Examples: participant counts, days per participant, distribution of steps\n",
    "summary = {\n",
    "    \"n_participants_daily\": daily[\"Id\"].nunique() if \"Id\" in daily else None,\n",
    "    \"n_participants_hourly\": hourly[\"Id\"].nunique() if \"Id\" in hourly else None,\n",
    "    \"n_participants_minute\": minute_wide[\"Id\"].nunique() if \"Id\" in minute_wide else None,\n",
    "}\n",
    "summary"
   ]
  },
  {
   "cell_type": "markdown",
   "id": "40950178",
   "metadata": {},
   "source": [
    "**Observation & Interpretation**  \n",
    "- _What changed / what do the results show?_ Initial counts help confirm expectations and data coverage.  \n",
    "- _Implications for driving problem:_ [Explain how this step moves us toward answering the question.]"
   ]
  },
  {
   "cell_type": "markdown",
   "id": "aae14e84",
   "metadata": {},
   "source": [
    "## Visualisation: Examples (Matplotlib Only)"
   ]
  },
  {
   "cell_type": "markdown",
   "id": "aaaaa775",
   "metadata": {},
   "source": [
    "**Assumptions & Predictions**  \n",
    "- _Assumptions:_ All figures will use a shared style for coherence across the notebook.  \n",
    "- _Predictions:_ All figures will use a shared style for coherence across the notebook."
   ]
  },
  {
   "cell_type": "markdown",
   "id": "ba772426",
   "metadata": {},
   "source": [
    "**Authorship & GAI use**  \n",
    "- Author(s): _[Full Name(s)]_  \n",
    "- Pair Programming: _[Name(s) if applicable]_  \n",
    "- GAI/External Help: _[Describe prompts, tools, and assistance used; include date]_"
   ]
  },
  {
   "cell_type": "code",
   "execution_count": null,
   "id": "319034e8",
   "metadata": {},
   "outputs": [],
   "source": [
    "# Example placeholder plot (replace with meaningful plots aligned to the driving problem)\n",
    "import matplotlib.pyplot as plt\n",
    "\n",
    "fig, ax = plt.subplots()\n",
    "ax.plot([0, 1, 2], [0, 1, 0])\n",
    "ax.set_title(\"Placeholder Plot — Replace with analysis-driven visual\")\n",
    "ax.set_xlabel(\"X\")\n",
    "ax.set_ylabel(\"Y\")\n",
    "plt.show()"
   ]
  },
  {
   "cell_type": "markdown",
   "id": "1932a8bd",
   "metadata": {},
   "source": [
    "**Observation & Interpretation**  \n",
    "- _What changed / what do the results show?_ Figures will have clear titles, axis labels, and legend (if needed) with concise textual guidance nearby.  \n",
    "- _Implications for driving problem:_ [Explain how this step moves us toward answering the question.]"
   ]
  },
  {
   "cell_type": "markdown",
   "id": "fc6a463d",
   "metadata": {},
   "source": [
    "## Synthesis: Answer the Driving Problem"
   ]
  },
  {
   "cell_type": "markdown",
   "id": "de0add87",
   "metadata": {},
   "source": [
    "**Assumptions & Predictions**  \n",
    "- _Assumptions:_ We combine evidence from the transformations and visuals to reach a concise, defensible answer.  \n",
    "- _Predictions:_ We combine evidence from the transformations and visuals to reach a concise, defensible answer."
   ]
  },
  {
   "cell_type": "markdown",
   "id": "2e33b92e",
   "metadata": {},
   "source": [
    "**Authorship & GAI use**  \n",
    "- Author(s): _[Full Name(s)]_  \n",
    "- Pair Programming: _[Name(s) if applicable]_  \n",
    "- GAI/External Help: _[Describe prompts, tools, and assistance used; include date]_"
   ]
  },
  {
   "cell_type": "code",
   "execution_count": null,
   "id": "cedb83b2",
   "metadata": {},
   "outputs": [],
   "source": [
    "# TODO: assemble metrics that directly support the answer, e.g. fraction of participants achieving >=15 min intense in morning/afternoon/evening\n",
    "result = {\n",
    "    \"morning_achievers\": None,\n",
    "    \"afternoon_achievers\": None,\n",
    "    \"evening_achievers\": None,\n",
    "    \"notes\": \"Fill with computed proportions / counts\"\n",
    "}\n",
    "result"
   ]
  },
  {
   "cell_type": "markdown",
   "id": "7559b6b6",
   "metadata": {},
   "source": [
    "**Observation & Interpretation**  \n",
    "- _What changed / what do the results show?_ Interpret quantities in clear language; connect to health relevance and practical implications.  \n",
    "- _Implications for driving problem:_ [Explain how this step moves us toward answering the question.]"
   ]
  },
  {
   "cell_type": "markdown",
   "id": "e35c2b0e",
   "metadata": {},
   "source": [
    "## Reporting: Tables, Algebra, Significant Figures"
   ]
  },
  {
   "cell_type": "markdown",
   "id": "f06c9fdf",
   "metadata": {},
   "source": [
    "**Assumptions & Predictions**  \n",
    "- _Assumptions:_ Results will be presented with appropriate significant figures and supporting algebra where necessary.  \n",
    "- _Predictions:_ Results will be presented with appropriate significant figures and supporting algebra where necessary."
   ]
  },
  {
   "cell_type": "markdown",
   "id": "fa69b27c",
   "metadata": {},
   "source": [
    "**Authorship & GAI use**  \n",
    "- Author(s): _[Full Name(s)]_  \n",
    "- Pair Programming: _[Name(s) if applicable]_  \n",
    "- GAI/External Help: _[Describe prompts, tools, and assistance used; include date]_"
   ]
  },
  {
   "cell_type": "code",
   "execution_count": null,
   "id": "fb07b633",
   "metadata": {},
   "outputs": [],
   "source": [
    "# TODO: create a small summary table for the report section\n",
    "report_table = pd.DataFrame([\n",
    "    {\"time_of_day\": \"morning\", \"prop_achieving_15min\": None},\n",
    "    {\"time_of_day\": \"afternoon\", \"prop_achieving_15min\": None},\n",
    "    {\"time_of_day\": \"evening\", \"prop_achieving_15min\": None},\n",
    "])\n",
    "report_table"
   ]
  },
  {
   "cell_type": "markdown",
   "id": "642fe021",
   "metadata": {},
   "source": [
    "**Observation & Interpretation**  \n",
    "- _What changed / what do the results show?_ Tables concisely support the narrative and match what the reader should 'see' in the figures.  \n",
    "- _Implications for driving problem:_ [Explain how this step moves us toward answering the question.]"
   ]
  },
  {
   "cell_type": "markdown",
   "id": "2eb83183",
   "metadata": {},
   "source": [
    "## Limitations & Sensitivity Checks"
   ]
  },
  {
   "cell_type": "markdown",
   "id": "f3825f34",
   "metadata": {},
   "source": [
    "**Assumptions & Predictions**  \n",
    "- _Assumptions:_ We will test sensitivity to thresholds (e.g., steps/min) and window definitions.  \n",
    "- _Predictions:_ We will test sensitivity to thresholds (e.g., steps/min) and window definitions."
   ]
  },
  {
   "cell_type": "markdown",
   "id": "ebd17ef5",
   "metadata": {},
   "source": [
    "**Authorship & GAI use**  \n",
    "- Author(s): _[Full Name(s)]_  \n",
    "- Pair Programming: _[Name(s) if applicable]_  \n",
    "- GAI/External Help: _[Describe prompts, tools, and assistance used; include date]_"
   ]
  },
  {
   "cell_type": "code",
   "execution_count": null,
   "id": "ad1b7295",
   "metadata": {},
   "outputs": [],
   "source": [
    "# TODO: sketch sensitivity analysis hooks (e.g., vary INTENSE_STEPS_PER_MIN; vary window lengths)\n",
    "# Example:\n",
    "for th in [90, 100, 110]:\n",
    "    pass  # compute and compare key outcomes\n",
    "print(\"Sensitivity hooks ready (implement).\")"
   ]
  },
  {
   "cell_type": "markdown",
   "id": "b3e15ac2",
   "metadata": {},
   "source": [
    "**Observation & Interpretation**  \n",
    "- _What changed / what do the results show?_ Document how conclusions change (or not) under reasonable parameter variations.  \n",
    "- _Implications for driving problem:_ [Explain how this step moves us toward answering the question.]"
   ]
  },
  {
   "cell_type": "markdown",
   "id": "e1d3239a",
   "metadata": {},
   "source": [
    "# Final Commentary & Next Steps"
   ]
  },
  {
   "cell_type": "markdown",
   "id": "700217e3",
   "metadata": {},
   "source": [
    "- **Final Answer (draft placeholder):** _[Concise sentence answering the driving problem]._  \n",
    "- **Implications:** _[Briefly relate to health guidelines/stakeholders]._  \n",
    "- **Reproducibility:** _[Mention data path `data/`, versions, and deterministic steps]._  \n",
    "- **Hand-off:** _[Notes for Week 12 think-aloud and Week 13 demo]._"
   ]
  }
 ],
 "metadata": {},
 "nbformat": 4,
 "nbformat_minor": 5
}
