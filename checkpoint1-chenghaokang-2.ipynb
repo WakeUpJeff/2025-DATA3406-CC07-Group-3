{
 "cells": [
  {
   "cell_type": "markdown",
   "id": "de3b067d-f48c-4f31-b040-f1f9353b7604",
   "metadata": {},
   "source": [
    "# Checkpoint 1\n",
    "\n",
    "**Author:** chenghao Kang (with help of chatGPT)\n",
    "\n",
    "**Date:** 23/9/2025(finish in one week) \n",
    "\n",
    "**Purpose:** To do the EDA for the assginment 2"
   ]
  },
  {
   "cell_type": "markdown",
   "id": "2278b7d2-0d00-417e-94ec-213e53b73100",
   "metadata": {},
   "source": [
    "## Overview of the Notebook\n",
    "\n",
    "This notebook explores the step activity data of three assigned participants (**IDs: 1844505072, 1927972279, 2022484408**).  \n",
    "It examines daily, hourly, and minute-level datasets to:  \n",
    "- Check data completeness and consistency across different levels.  \n",
    "- Apply adjustments and cleaning for reliable analysis.  \n",
    "- Validate data alignment (**daily vs hourly**, **hourly vs minute**, **daily vs active minutes**).  \n",
    "- Prepare for answering the driving question: whether participants achieve 15 minutes of intense activity at different times of the day. "
   ]
  },
  {
   "cell_type": "markdown",
   "id": "ae186171-573f-4762-9756-6c35ceb39d5b",
   "metadata": {},
   "source": [
    "## Step 1: Load the data\n",
    "### Purpose:\n",
    "To import the daily, hourly, and minute-level step datasets, and restrict the analysis to the three participants assigned (**IDs: 1844505072, 1927972279, 2022484408**).  \n",
    "The goal is to prepare the raw data for further adjustments, cleaning, and correlation analysis.  \n",
    "\n",
    "**Files loaded:**  \n",
    "- dailySteps_merged.csv  \n",
    "- hourlySteps_merged.csv  \n",
    "- minuteStepsWide_merged.csv  \n",
    "\n",
    "\n",
    "We begin by loading the three datasets: **Daily**, **Hourly**, and **Minute-level steps**.  \n"
   ]
  },
  {
   "cell_type": "code",
   "execution_count": 185,
   "id": "b175e697-dd2d-4084-bf1a-687af49ae206",
   "metadata": {},
   "outputs": [],
   "source": [
    "import pandas as pd\n",
    "import numpy as np\n",
    "daily = pd.read_csv(\"dailySteps_merged.csv\")\n",
    "hourly = pd.read_csv(\"hourlySteps_merged.csv\")\n",
    "minute = pd.read_csv(\"minuteStepsWide_merged.csv\")\n",
    "\n",
    "ids = [1844505072, 1927972279, 2022484408]\n",
    "daily = daily[daily[\"Id\"].isin(ids)]\n",
    "hourly = hourly[hourly[\"Id\"].isin(ids)]\n",
    "minute = minute[minute[\"Id\"].isin(ids)]\n"
   ]
  },
  {
   "cell_type": "markdown",
   "id": "39340604-214f-480e-850a-6b78128788fc",
   "metadata": {},
   "source": [
    "For each participant, I calculated descriptive statistics at both the daily and minute levels to better understand their physical activity patterns."
   ]
  },
  {
   "cell_type": "markdown",
   "id": "a11d918f-68f0-4bb0-b975-2bf6bfe62da5",
   "metadata": {},
   "source": [
    "**Daily-level summary provides:**\n",
    "    \n",
    "1.Number of days with available data\n",
    "\n",
    "2.Average daily steps\n",
    "\n",
    "3.Maximum and minimum daily steps\n",
    "\n",
    "4.Standard deviation of daily steps\n",
    "\n",
    "5.Extra observation: Proportion of active days (days with >0 steps) relative to total days"
   ]
  },
  {
   "cell_type": "code",
   "execution_count": 188,
   "id": "53306349-f939-4eae-9f11-396b317e976e",
   "metadata": {},
   "outputs": [
    {
     "name": "stdout",
     "output_type": "stream",
     "text": [
      "\n",
      "=== Participant 1844505072 ===\n",
      "Number of days: 31\n",
      "Average daily steps: 2580.06\n",
      "Max daily steps: 8054\n",
      "Min daily steps: 0\n",
      "Standard deviation: 2712.84\n",
      "Proportion of active days: 67.74%\n",
      "\n",
      "=== Participant 1927972279 ===\n",
      "Number of days: 31\n",
      "Average daily steps: 916.13\n",
      "Max daily steps: 3790\n",
      "Min daily steps: 0\n",
      "Standard deviation: 1205.27\n",
      "Proportion of active days: 54.84%\n",
      "\n",
      "=== Participant 2022484408 ===\n",
      "Number of days: 31\n",
      "Average daily steps: 11370.65\n",
      "Max daily steps: 18387\n",
      "Min daily steps: 3292\n",
      "Standard deviation: 2806.99\n",
      "Proportion of active days: 100.00%\n"
     ]
    }
   ],
   "source": [
    "for pid in ids:\n",
    "    df_daily = daily[daily['Id'] == pid]\n",
    "    print(f\"\\n=== Participant {pid} ===\")\n",
    "    print(f\"Number of days: {df_daily.shape[0]}\")\n",
    "    print(f\"Average daily steps: {df_daily['StepTotal'].mean():.2f}\")\n",
    "    print(f\"Max daily steps: {df_daily['StepTotal'].max()}\")\n",
    "    print(f\"Min daily steps: {df_daily['StepTotal'].min()}\")\n",
    "    print(f\"Standard deviation: {df_daily['StepTotal'].std():.2f}\")\n",
    "\n",
    "    # Extra observation: Proportion of active days \n",
    "    active_days = (df_daily['StepTotal'] > 0).sum()\n",
    "    prop_active_days = active_days / df_daily.shape[0]\n",
    "    print(f\"Proportion of active days: {prop_active_days:.2%}\")\n"
   ]
  },
  {
   "cell_type": "markdown",
   "id": "8ff24ecd-8b91-431c-afd5-f6ed3aeac702",
   "metadata": {},
   "source": [
    "**Minute-level summary provides:**\n",
    "    \n",
    "1.Number of non-zero minutes (minutes with >0 steps)\n",
    "\n",
    "2.Number of missing data points\n",
    "\n",
    "3.Average steps per minute\n",
    "\n",
    "4.Maximum and minimum steps in a single minute\n",
    "\n",
    "5.Minutes with intense activity (defined as >60 steps per minute)\n",
    "\n",
    "6.Extra observation: Longest streak of consecutive non-zero minutes (indicating sustained activity)"
   ]
  },
  {
   "cell_type": "code",
   "execution_count": 190,
   "id": "3e14618f-1070-4412-a999-66cd01d4e417",
   "metadata": {},
   "outputs": [
    {
     "name": "stdout",
     "output_type": "stream",
     "text": [
      "\n",
      "=== Participant 1844505072 ===\n",
      "Number of non-zero minutes: 3284\n",
      "Missing data points: 0\n",
      "Average steps per minute: 1.69\n",
      "Max steps in a minute: 115\n",
      "Min steps in a minute: 0\n",
      "Minutes with intense activity (>60 steps): 137\n",
      "Longest streak of consecutive active minutes: 32\n",
      "\n",
      "=== Participant 1927972279 ===\n",
      "Number of non-zero minutes: 1206\n",
      "Missing data points: 0\n",
      "Average steps per minute: 0.63\n",
      "Max steps in a minute: 117\n",
      "Min steps in a minute: 0\n",
      "Minutes with intense activity (>60 steps): 85\n",
      "Longest streak of consecutive active minutes: 25\n",
      "\n",
      "=== Participant 2022484408 ===\n",
      "Number of non-zero minutes: 9217\n",
      "Missing data points: 0\n",
      "Average steps per minute: 7.84\n",
      "Max steps in a minute: 176\n",
      "Min steps in a minute: 0\n",
      "Minutes with intense activity (>60 steps): 1856\n",
      "Longest streak of consecutive active minutes: 64\n"
     ]
    }
   ],
   "source": [
    "for pid in ids:\n",
    "    df_minute = minute[minute['Id'] == pid]  # 注意 Id 大小写\n",
    "    if df_minute.empty:\n",
    "        print(f\"\\n=== Participant {pid} ===\")\n",
    "        print(\"No minute-level data available.\")\n",
    "        continue\n",
    "\n",
    "    step_cols = [c for c in df_minute.columns if c.startswith('Steps')]\n",
    "    print(f\"\\n=== Participant {pid} ===\")\n",
    "\n",
    "    non_zero_minutes = (df_minute[step_cols] > 0).sum().sum()\n",
    "    missing_data = df_minute[step_cols].isna().sum().sum()\n",
    "    avg_steps_per_min = df_minute[step_cols].mean().mean()\n",
    "    max_steps = df_minute[step_cols].max().max()\n",
    "    min_steps = df_minute[step_cols].min().min()\n",
    "    intense_minutes = (df_minute[step_cols] > 60).sum().sum()\n",
    "\n",
    "    print(f\"Number of non-zero minutes: {non_zero_minutes}\")\n",
    "    print(f\"Missing data points: {missing_data}\")\n",
    "    print(f\"Average steps per minute: {avg_steps_per_min:.2f}\")\n",
    "    print(f\"Max steps in a minute: {max_steps}\")\n",
    "    print(f\"Min steps in a minute: {min_steps}\")\n",
    "    print(f\"Minutes with intense activity (>60 steps): {intense_minutes}\")\n",
    "\n",
    "    # Extra observation: Longest streak of consecutive non-zero minutes\n",
    "    non_zero_flags = (df_minute[step_cols] > 0).astype(int).values.flatten()\n",
    "    longest_streak = 0\n",
    "    current = 0\n",
    "    for val in non_zero_flags:\n",
    "        if val == 1:\n",
    "            current += 1\n",
    "            longest_streak = max(longest_streak, current)\n",
    "        else:\n",
    "            current = 0\n",
    "    print(f\"Longest streak of consecutive active minutes: {longest_streak}\")\n"
   ]
  },
  {
   "cell_type": "markdown",
   "id": "3da8826b-af70-4d4d-9d79-9f4a87b052aa",
   "metadata": {},
   "source": [
    "# Step 2: Apply adjustments"
   ]
  },
  {
   "cell_type": "markdown",
   "id": "484bce6c-a740-45a7-8d8a-cdbd9e89f3bd",
   "metadata": {},
   "source": [
    "In this step, I made adjustments to ensure consistency across datasets:\n",
    "\n",
    "Converted date/time fields into proper datetime objects for **Daily**, **Hourly**, and **Minute-level steps**.  \n",
    "Standardized all column names to lowercase to avoid mismatches.\n",
    "Checked the time ranges of each dataset to confirm alignment before further analysis."
   ]
  },
  {
   "cell_type": "code",
   "execution_count": 193,
   "id": "784395bf-8b38-4831-acb7-2ac54aa99937",
   "metadata": {},
   "outputs": [
    {
     "name": "stdout",
     "output_type": "stream",
     "text": [
      "Daily: 2016-04-12 00:00:00 to 2016-05-12 00:00:00\n",
      "Hourly: 2016-04-12 00:00:00 to 2016-05-12 15:00:00\n",
      "Minute: 2016-04-13 00:00:00 to 2016-05-13 08:00:00\n"
     ]
    }
   ],
   "source": [
    "# Convert date/time fields into proper datetime objects\n",
    "daily[\"ActivityDay\"] = pd.to_datetime(daily[\"ActivityDay\"], format=\"%m/%d/%Y\")\n",
    "hourly[\"ActivityHour\"] = pd.to_datetime(hourly[\"ActivityHour\"], format=\"%m/%d/%Y %I:%M:%S %p\")\n",
    "minute[\"ActivityHour\"] = pd.to_datetime(minute[\"ActivityHour\"], format=\"%m/%d/%Y %I:%M:%S %p\")\n",
    "\n",
    "# Standardize all column names to lowercase (avoid mismatches)\n",
    "daily.columns = daily.columns.str.lower()\n",
    "hourly.columns = hourly.columns.str.lower()\n",
    "minute.columns = minute.columns.str.lower()\n",
    "\n",
    "# Check the available time range for each dataset\n",
    "print(\"Daily:\", daily[\"activityday\"].min(), \"to\", daily[\"activityday\"].max())\n",
    "print(\"Hourly:\", hourly[\"activityhour\"].min(), \"to\", hourly[\"activityhour\"].max())\n",
    "print(\"Minute:\", minute[\"activityhour\"].min(), \"to\", minute[\"activityhour\"].max())"
   ]
  },
  {
   "cell_type": "markdown",
   "id": "d600a380-e388-468d-8fc1-94667fcd78c7",
   "metadata": {},
   "source": [
    "This confirms that the three datasets cover similar but not identical ranges, which is important to keep in mind for later correlation analysis."
   ]
  },
  {
   "cell_type": "markdown",
   "id": "b2da64ac-a23f-4b1b-9ae8-e1c107a03e20",
   "metadata": {},
   "source": [
    "# Step 3: Data cleaning"
   ]
  },
  {
   "cell_type": "markdown",
   "id": "a0217b07-9e9d-4db6-8e6d-01ac35521947",
   "metadata": {},
   "source": [
    "In this step, I focused on ensuring the quality and reliability of the dataset before analysis:\n",
    "\n",
    "1.Checked for missing values in daily, hourly, and minute datasets.\n",
    "\n",
    "2.Removed duplicate rows to avoid over-counting.\n",
    "\n",
    "3.Verified that there are no negative step counts, since step values must logically be non-negative."
   ]
  },
  {
   "cell_type": "code",
   "execution_count": 197,
   "id": "27f43076-6a2c-445c-b994-69624c02b66c",
   "metadata": {},
   "outputs": [
    {
     "name": "stdout",
     "output_type": "stream",
     "text": [
      "Daily missing:\n",
      " id             0\n",
      "activityday    0\n",
      "steptotal      0\n",
      "dtype: int64\n",
      "Hourly missing:\n",
      " id              0\n",
      "activityhour    0\n",
      "steptotal       0\n",
      "dtype: int64\n",
      "Minute missing:\n",
      " id              0\n",
      "activityhour    0\n",
      "steps00         0\n",
      "steps01         0\n",
      "steps02         0\n",
      "               ..\n",
      "steps55         0\n",
      "steps56         0\n",
      "steps57         0\n",
      "steps58         0\n",
      "steps59         0\n",
      "Length: 62, dtype: int64\n",
      "Daily negative steps: 0\n",
      "Hourly negative steps: 0\n",
      "Minute negative steps: 0\n"
     ]
    }
   ],
   "source": [
    "print(\"Daily missing:\\n\", daily.isnull().sum())\n",
    "print(\"Hourly missing:\\n\", hourly.isnull().sum())\n",
    "print(\"Minute missing:\\n\", minute.isnull().sum())\n",
    "\n",
    "daily = daily.drop_duplicates()\n",
    "hourly = hourly.drop_duplicates()\n",
    "minute = minute.drop_duplicates()\n",
    "\n",
    "print(\"Daily negative steps:\", (daily[\"steptotal\"] < 0).sum())\n",
    "print(\"Hourly negative steps:\", (hourly[\"steptotal\"] < 0).sum())\n",
    "\n",
    "step_cols = [col for col in minute.columns if col.startswith(\"steps\")]\n",
    "print(\"Minute negative steps:\", (minute[step_cols] < 0).sum().sum())\n"
   ]
  },
  {
   "cell_type": "markdown",
   "id": "30d3c9f1-dac9-4305-aed7-902147490b6f",
   "metadata": {},
   "source": [
    "The results show that:\n",
    "\n",
    "There are **no missing values** in any dataset.\n",
    "    \n",
    "Duplicate records were removed (if any).\n",
    "\n",
    "There are **no negative step counts**, confirming the dataset is valid for further analysis."
   ]
  },
  {
   "cell_type": "markdown",
   "id": "92df6b9b-2e80-4bd3-b59a-f8f56f54c2f4",
   "metadata": {},
   "source": [
    "# Step 4: assumptions"
   ]
  },
  {
   "cell_type": "markdown",
   "id": "dd5a0f87-7847-45fc-83b3-b08a3f896920",
   "metadata": {},
   "source": [
    "To guide the exploration, we make the following initial assumptions:  \n",
    "\n",
    "- **Daily Steps Dataset:** Participants are expected to achieve around **10,000 steps per day**, consistent with a common health guideline.  \n",
    "- **Hourly Steps Dataset:** Step counts should peak during typical active hours (morning commute, lunchtime, and early evening) and be close to zero during sleeping hours (midnight to early morning).  \n",
    "- **Minute-Level Steps Dataset:** Most minutes will record **zero steps**, with activity occurring in **short bursts** rather than evenly spread throughout the hour.  "
   ]
  },
  {
   "cell_type": "markdown",
   "id": "34f32394-b737-43ce-9167-1941d3de02e9",
   "metadata": {},
   "source": [
    "**Assumption 1 (Daily dataset completeness):**  \n",
    "The average daily steps help us check if the assumption of ~10,000 steps is realistic.    \n"
   ]
  },
  {
   "cell_type": "code",
   "execution_count": 202,
   "id": "9b838fc0-1012-4225-a2e1-0919537be321",
   "metadata": {},
   "outputs": [
    {
     "name": "stdout",
     "output_type": "stream",
     "text": [
      "[4.1] Daily vs Hourly-sum: Pearson r = 0.9999, RMSE = 80.75, n = 93\n",
      "           id activityday  steptotal  hourly_sum  diff\n",
      "0  1844505072  2016-04-12       6697        6697     0\n",
      "1  1844505072  2016-04-13       4929        4929     0\n",
      "2  1844505072  2016-04-14       7937        7905    32\n",
      "3  1844505072  2016-04-15       3844        3844     0\n",
      "4  1844505072  2016-04-16       3414        3414     0\n",
      "5  1844505072  2016-04-17       4525        4525     0\n",
      "6  1844505072  2016-04-18       4597        4597     0\n",
      "7  1844505072  2016-04-19        197         197     0\n",
      "8  1844505072  2016-04-20          8           8     0\n",
      "9  1844505072  2016-04-21       8054        8054     0\n"
     ]
    }
   ],
   "source": [
    "# Aggregate hourly data into daily totals\n",
    "hourly_day = (\n",
    "    hourly\n",
    "    .assign(activityday=hourly['activityhour'].dt.floor('D'))   # convert hour timestamp to day\n",
    "    .groupby(['id', 'activityday'], as_index=False)['steptotal']\n",
    "    .sum()\n",
    "    .rename(columns={'steptotal': 'hourly_sum'})  # rename for clarity\n",
    ")\n",
    "\n",
    "# Merge daily dataset with aggregated hourly dataset\n",
    "daily_compare = (\n",
    "    daily[['id', 'activityday', 'steptotal']]\n",
    "    .merge(hourly_day, on=['id', 'activityday'], how='inner')\n",
    ")\n",
    "\n",
    "# Compare daily vs hourly totals\n",
    "daily_compare['diff'] = daily_compare['steptotal'] - daily_compare['hourly_sum'] \n",
    "corr1 = daily_compare[['steptotal', 'hourly_sum']].corr().iloc[0,1]           \n",
    "rmse1 = float(np.sqrt((daily_compare['diff']**2).mean()))                      \n",
    "\n",
    "print(f\"[4.1] Daily vs Hourly-sum: Pearson r = {corr1:.4f}, RMSE = {rmse1:.2f}, n = {len(daily_compare)}\")\n",
    "print(daily_compare.head(10))\n"
   ]
  },
  {
   "cell_type": "markdown",
   "id": "89530217-1619-4d1d-a4f0-7072da7708d8",
   "metadata": {},
   "source": [
    "**Assumption 2 (Hourly dataset accuracy)**  \n",
    "This helps confirm whether participants are more active during the day and inactive at night.   \n"
   ]
  },
  {
   "cell_type": "code",
   "execution_count": 204,
   "id": "db81004e-7d6b-40dd-9e97-2505c2d262d7",
   "metadata": {},
   "outputs": [
    {
     "name": "stdout",
     "output_type": "stream",
     "text": [
      "[4.2] Hourly vs Minute-sum: Pearson r = 1.0000, RMSE = 0.00, n = 2131\n",
      "           id        activityhour  steptotal  minute_sum  diff\n",
      "0  1844505072 2016-04-13 00:00:00          0           0     0\n",
      "1  1844505072 2016-04-13 01:00:00          0           0     0\n",
      "2  1844505072 2016-04-13 02:00:00          0           0     0\n",
      "3  1844505072 2016-04-13 03:00:00          0           0     0\n",
      "4  1844505072 2016-04-13 04:00:00          0           0     0\n",
      "5  1844505072 2016-04-13 05:00:00          0           0     0\n",
      "6  1844505072 2016-04-13 06:00:00          0           0     0\n",
      "7  1844505072 2016-04-13 07:00:00          0           0     0\n",
      "8  1844505072 2016-04-13 08:00:00          0           0     0\n",
      "9  1844505072 2016-04-13 09:00:00          0           0     0\n"
     ]
    }
   ],
   "source": [
    "# Select all step-related columns from minute dataset\n",
    "step_cols = [c for c in minute.columns if c.startswith('steps')]\n",
    "\n",
    "minute_long = minute.melt(\n",
    "    id_vars=['id', 'activityhour'],\n",
    "    value_vars=step_cols,\n",
    "    var_name='minute_col',\n",
    "    value_name='steps'\n",
    ")\n",
    "# Convert step values to numeric and fill missing values with 0\n",
    "minute_long['steps'] = pd.to_numeric(minute_long['steps'], errors='coerce').fillna(0)\n",
    "\n",
    "# Aggregate minute-level steps into hourly totals\n",
    "minute_to_hour = (\n",
    "    minute_long\n",
    "    .groupby(['id', 'activityhour'], as_index=False)['steps']\n",
    "    .sum()\n",
    "    .rename(columns={'steps': 'minute_sum'})\n",
    ")\n",
    "\n",
    "# Merge hourly dataset with aggregated minute-level dataset\n",
    "hour_compare = (\n",
    "    hourly[['id', 'activityhour', 'steptotal']]\n",
    "    .merge(minute_to_hour, on=['id', 'activityhour'], how='inner')\n",
    ")\n",
    "\n",
    "# Compare hourly vs minute totals\n",
    "hour_compare['diff'] = hour_compare['steptotal'] - hour_compare['minute_sum']\n",
    "corr2 = hour_compare[['steptotal', 'minute_sum']].corr().iloc[0,1]   \n",
    "rmse2 = float(np.sqrt((hour_compare['diff']**2).mean()))            \n",
    "\n",
    "print(f\"[4.2] Hourly vs Minute-sum: Pearson r = {corr2:.4f}, RMSE = {rmse2:.2f}, n = {len(hour_compare)}\")\n",
    "print(hour_compare.head(10))\n"
   ]
  },
  {
   "cell_type": "markdown",
   "id": "9f553b2d-ae79-41c5-b374-076692a6d214",
   "metadata": {},
   "source": [
    "**Assumption 3 (Minute-level detail)**  \n",
    "We expect a high proportion of zero-step minutes, but the active minutes show intensity.    \n"
   ]
  },
  {
   "cell_type": "code",
   "execution_count": 206,
   "id": "7435db15-f761-4b2b-9741-a282d356dcd6",
   "metadata": {},
   "outputs": [
    {
     "name": "stdout",
     "output_type": "stream",
     "text": [
      "[4.3] Daily total vs Active minutes: Pearson r = 0.9503, n = 90\n",
      "           id activityday  steptotal  active_minutes\n",
      "0  1844505072  2016-04-13       4929             248\n",
      "1  1844505072  2016-04-14       7937             373\n",
      "2  1844505072  2016-04-15       3844             176\n",
      "3  1844505072  2016-04-16       3414             147\n",
      "4  1844505072  2016-04-17       4525             209\n",
      "5  1844505072  2016-04-18       4597             229\n",
      "6  1844505072  2016-04-19        197              10\n",
      "7  1844505072  2016-04-20          8               1\n",
      "8  1844505072  2016-04-21       8054             323\n",
      "9  1844505072  2016-04-22       5372             220\n"
     ]
    }
   ],
   "source": [
    "# Add a new column \"date\" (day-level) from minute timestamps\n",
    "minute_long['date'] = minute_long['activityhour'].dt.floor('D')\n",
    "\n",
    "# Mark whether each minute is active (steps > 0)\n",
    "minute_long['active'] = minute_long['steps'] > 0\n",
    "# Count active minutes per day (per participant)\n",
    "active_minutes = (\n",
    "    minute_long\n",
    "    .groupby(['id', 'date'], as_index=False)['active']\n",
    "    .sum()\n",
    "    .rename(columns={'active': 'active_minutes'})   # rename for clarity\n",
    ")\n",
    "# Merge daily total steps with active minutes\n",
    "daily_active = (\n",
    "    daily[['id', 'activityday', 'steptotal']]\n",
    "    .merge(active_minutes, left_on=['id', 'activityday'], right_on=['id', 'date'], how='inner')\n",
    "    .drop(columns=['date'])   # drop duplicate date column\n",
    ")\n",
    "\n",
    "corr3 = daily_active[['steptotal', 'active_minutes']].corr().iloc[0,1]\n",
    "\n",
    "print(f\"[4.3] Daily total vs Active minutes: Pearson r = {corr3:.4f}, n = {len(daily_active)}\")\n",
    "print(daily_active.head(10))\n",
    "\n"
   ]
  },
  {
   "cell_type": "markdown",
   "id": "b0841247-71b1-463b-983c-5ad94c47ad8c",
   "metadata": {},
   "source": [
    "- **Daily vs Hourly sum**: Pearson r ≈ 0.9999, RMSE ≈ 80  \n",
    "- **Hourly vs Minute sum**: Pearson r = 1.0000, RMSE = 0  \n",
    "- **Daily total vs Active minutes**: Pearson r ≈ 0.95  \n",
    "\n",
    "These results validate that the data across daily, hourly, and minute levels is consistent. This consistency is important because it allows us to later explore the driving problem — whether individuals achieve 15 minutes of intense activity across different times of day."
   ]
  },
  {
   "cell_type": "markdown",
   "id": "65ff2da9-6f40-43b4-8be9-571cfdcad966",
   "metadata": {},
   "source": [
    "## Final Statement\n",
    "Through this analysis, I learned how to apply a literate programming approach to organize data processing in a clear and logical way. By following the steps of loading data, applying adjustments, cleaning, and correlation analysis, I was able to transform raw wearable device data into meaningful insights. I also gained hands-on experience in handling real-world issues such as missing values, data alignment, and inconsistent data types across multiple datasets.\n",
    "The three assumptions we made directly connect to our driving problem: “Do participants achieve 15 minutes of intense activity across different times of day (morning, afternoon, evening)?”\n"
   ]
  },
  {
   "cell_type": "markdown",
   "id": "d5fe8993-0e43-4969-83d3-38fb37395530",
   "metadata": {},
   "source": [
    "### Assumption 1 (Daily dataset completeness): \n",
    "We assumed that the daily dataset reflects all participant activity. This ensures that when we analyze step totals, we can trust that the measures capture overall daily activity without large gaps.\n",
    "\n",
    "### Assumption 2 (Hourly dataset accuracy): \n",
    "We assumed that hourly activity is accurately recorded and aligned to the correct day. This is essential when splitting activity into morning, afternoon, and evening, as any misalignment could bias the analysis.\n",
    "\n",
    "### Assumption 3 (Minute-level detail): \n",
    "We assumed that the minute-level dataset correctly represents fine-grained intensity. This matters because the definition of “intense activity” relies on minute-level thresholds (>60 steps per minute).\n"
   ]
  },
  {
   "cell_type": "markdown",
   "id": "bc942652-6182-4a1b-97b6-524fd23e7460",
   "metadata": {},
   "source": [
    "\n",
    "Together, these assumptions ensure that our data pipeline supports a valid answer to the driving problem. In summary, I learned both technical skills for cleaning and analyzing multi-granularity datasets and critical thinking skills for connecting assumptions to research questions."
   ]
  }
 ],
 "metadata": {
  "kernelspec": {
   "display_name": "Python 3 (ipykernel)",
   "language": "python",
   "name": "python3"
  },
  "language_info": {
   "codemirror_mode": {
    "name": "ipython",
    "version": 3
   },
   "file_extension": ".py",
   "mimetype": "text/x-python",
   "name": "python",
   "nbconvert_exporter": "python",
   "pygments_lexer": "ipython3",
   "version": "3.12.2"
  }
 },
 "nbformat": 4,
 "nbformat_minor": 5
}
