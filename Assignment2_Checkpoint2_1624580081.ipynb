{
 "cells": [
  {
   "cell_type": "markdown",
   "id": "3e431eb1",
   "metadata": {},
   "source": [
    "\n",
    "# Assignment 2 – Individual Checkpoint 2\n",
    "**Group ID:** 3  \n",
    "**Student:** Jeff Sui (SID: 510476746)  \n",
    "**Driving Problem:** *Do they achieve 15 minutes of intense activity across different times of day (morning, afternoon, evening)?*\n",
    "\n",
    "**Personal Planning & Progress (GitHub Wiki):** [Check Point 2 LINK](https://github.sydney.edu.au/xsui8502/2025-DATA3406-CC07-Group-3/wiki/Jeff-Sui-Individual-Checkpoint-2)\n",
    "\n",
    "**People explored in Checkpoint 1 (IDs):** [1503960366, 1624580081, 1644430081]  \n",
    "**Focus person for Checkpoint 2:** **1624580081** (chosen because their cadence looked lower/more stop–start in Checkpoint 1, making them a good stress‑test for 15‑minute streaks).\n",
    "\n",
    "---\n",
    "\n",
    "## Statement of Help I Received\n",
    "- **Code writing & structure:** my own Checkpoint 1 code, lecture examples; I used ChatGPT to help scaffold this notebook but I reviewed/edited all outputs.  \n",
    "- **Debugging:** print checks, shape assertions, careful inspection of plots; occasional ChatGPT hints.  \n",
    "- **Data interpretation:** class notes and public guidelines (WHO/Aus).  \n",
    "- **Visualisation:** Matplotlib docs/gallery.  \n",
    "\n",
    "---\n",
    "\n",
    "## Initial Assumptions & Predictions (overall)\n",
    "- **Intensity rule:** :  \n",
    "  thresholds (≥100 steps/min moderate, ≥130 vigorous.  \n",
    "  (2) A strict **≥15‑minute consecutive** non‑zero steps **streak**.  \n",
    "- **Time bins:** morning 06:00–11:59; afternoon 12:00–17:59; evening 18:00–22:59.  \n",
    "- **Prediction:** for **1624580081**, I expect **few or no vigorous 15‑min streaks**; any sustained runs are more likely in the **evening**.\n",
    "\n",
    "---\n",
    "\n"
   ]
  },
  {
   "cell_type": "markdown",
   "id": "932c8b79",
   "metadata": {},
   "source": [
    "### Cell 1 — Setup environment & safe paths: Assumptions, Predictions, and Description\n",
    "**Description.** Files live in a local `data/` folder."
   ]
  },
  {
   "cell_type": "code",
   "execution_count": 46,
   "id": "ea0dfe33",
   "metadata": {},
   "outputs": [
    {
     "name": "stdout",
     "output_type": "stream",
     "text": [
      "Using data from: /Users/jeffsui/Desktop/USYD/Y5S2/DATA 3406/2025-DATA3406-CC07-Group-3/data\n"
     ]
    }
   ],
   "source": [
    "# Started: 08 Oct 2025 06:29  |  Finished: 08 Oct 2025 06:54\n",
    "\n",
    "# Environment and file paths (matplotlib only; no seaborn)\n",
    "import os, shutil\n",
    "from pathlib import Path\n",
    "import pandas as pd\n",
    "import numpy as np\n",
    "import matplotlib.pyplot as plt\n",
    "\n",
    "DATA_DIR = Path(\"data\")\n",
    "UPLOAD_DIR = Path(\"/mnt/data\")\n",
    "DATA_DIR.mkdir(exist_ok=True)\n",
    "\n",
    "files = {\n",
    "    \"daily\":\"dailySteps_merged.csv\",\n",
    "    \"hourly\":\"hourlySteps_merged.csv\",\n",
    "    \"minute_wide\":\"minuteStepsWide_merged.csv\"\n",
    "}\n",
    "\n",
    "# Copy from /mnt/data if local data/ missing\n",
    "for fname in files.values():\n",
    "    src = UPLOAD_DIR / fname\n",
    "    dst = DATA_DIR / fname\n",
    "    if (not dst.exists()) and src.exists():\n",
    "        shutil.copyfile(src, dst)\n",
    "\n",
    "DAILY_PATH  = DATA_DIR / files[\"daily\"]\n",
    "HOURLY_PATH = DATA_DIR / files[\"hourly\"]\n",
    "MINW_PATH   = DATA_DIR / files[\"minute_wide\"]\n",
    "\n",
    "assert DAILY_PATH.exists() and HOURLY_PATH.exists() and MINW_PATH.exists(), \"Place CSVs in the local data/ folder.\"\n",
    "\n",
    "pd.set_option('display.max_columns', 120)\n",
    "print(\"Using data from:\", DATA_DIR.resolve())\n"
   ]
  },
  {
   "cell_type": "markdown",
   "id": "331b8517",
   "metadata": {},
   "source": [
    "### Cell 2 — Load data & select participant: Assumptions, Predictions, and Description\n",
    "**Assumptions.** CSV schemas match the Fitbit dataset used in class (columns like Id, ActivityDay/Hour, StepTotal, Steps00…Steps59).\n",
    "\n",
    "**Prediction.** I expect a non‑zero number of days for this person and reasonable counts for hourly/minute‑wide rows.\n",
    "\n",
    "**What this cell does (description).** Read the three CSVs, filter to the chosen participant, and print basic counts to sanity‑check coverage.\n"
   ]
  },
  {
   "cell_type": "code",
   "execution_count": 47,
   "id": "3b0d2f94",
   "metadata": {},
   "outputs": [
    {
     "name": "stdout",
     "output_type": "stream",
     "text": [
      "Person 1624580081 | unique days: 31 | hourly rows: 736 | minute-wide rows: 729\n"
     ]
    }
   ],
   "source": [
    "# Started: 08 Oct 2025 04:58  |  Finished: 08 Oct 2025 05:14\n",
    "\n",
    "# Load datasets & focus on a single person\n",
    "daily = pd.read_csv(DAILY_PATH)\n",
    "hourly = pd.read_csv(HOURLY_PATH)\n",
    "minute_wide = pd.read_csv(MINW_PATH)\n",
    "\n",
    "PERSON_ID = 1624580081\n",
    "daily_p = daily[daily[\"Id\"] == PERSON_ID].copy()\n",
    "hourly_p = hourly[hourly[\"Id\"] == PERSON_ID].copy()\n",
    "minw_p = minute_wide[minute_wide[\"Id\"] == PERSON_ID].copy()\n",
    "\n",
    "print(\"Person\", PERSON_ID, \n",
    "      \"| unique days:\", daily_p[\"ActivityDay\"].nunique(), \n",
    "      \"| hourly rows:\", len(hourly_p), \n",
    "      \"| minute-wide rows:\", len(minw_p))\n"
   ]
  },
  {
   "cell_type": "markdown",
   "id": "d40ff5f9",
   "metadata": {},
   "source": [
    "**Cell 2 — Observation & Interpretation.** If counts look reasonable (tens of days, many hourly rows), the subset is ready. If zero days appear, I likely filtered the wrong ID."
   ]
  },
  {
   "cell_type": "markdown",
   "id": "843e3205",
   "metadata": {},
   "source": [
    "### Cell 3 — Reshape minute‑wide to minute‑level time series: Assumptions, Predictions, and Description\n",
    "**Assumptions.** Each row in minute‑wide is one hour, with 60 columns capturing within‑hour minutes.\n",
    "\n",
    "**Prediction.** After melting, I expect one row per minute, with a continuous time index within each day.\n",
    "\n",
    "**What this cell does (description).** Parse dates, identify `Steps00…Steps59`, melt to long format, and build real `DateTime` for each minute.\n"
   ]
  },
  {
   "cell_type": "code",
   "execution_count": 48,
   "id": "c2c502be",
   "metadata": {},
   "outputs": [
    {
     "name": "stdout",
     "output_type": "stream",
     "text": [
      "Minute rows: 43740 | range: 2016-04-13 00:00:00 → 2016-05-13 08:59:00\n"
     ]
    },
    {
     "name": "stderr",
     "output_type": "stream",
     "text": [
      "/var/folders/bc/cbt54pnd3vjg_9lg8kqsggm80000gn/T/ipykernel_97771/3054471870.py:5: UserWarning: Could not infer format, so each element will be parsed individually, falling back to `dateutil`. To ensure parsing is consistent and as-expected, please specify a format.\n",
      "  hourly_p[\"ActivityHour\"] = pd.to_datetime(hourly_p[\"ActivityHour\"])\n",
      "/var/folders/bc/cbt54pnd3vjg_9lg8kqsggm80000gn/T/ipykernel_97771/3054471870.py:6: UserWarning: Could not infer format, so each element will be parsed individually, falling back to `dateutil`. To ensure parsing is consistent and as-expected, please specify a format.\n",
      "  minw_p[\"ActivityHour\"] = pd.to_datetime(minw_p[\"ActivityHour\"])\n"
     ]
    },
    {
     "data": {
      "text/html": [
       "<div>\n",
       "<style scoped>\n",
       "    .dataframe tbody tr th:only-of-type {\n",
       "        vertical-align: middle;\n",
       "    }\n",
       "\n",
       "    .dataframe tbody tr th {\n",
       "        vertical-align: top;\n",
       "    }\n",
       "\n",
       "    .dataframe thead th {\n",
       "        text-align: right;\n",
       "    }\n",
       "</style>\n",
       "<table border=\"1\" class=\"dataframe\">\n",
       "  <thead>\n",
       "    <tr style=\"text-align: right;\">\n",
       "      <th></th>\n",
       "      <th>Id</th>\n",
       "      <th>ActivityHour</th>\n",
       "      <th>Steps</th>\n",
       "      <th>Minute</th>\n",
       "      <th>DateTime</th>\n",
       "    </tr>\n",
       "  </thead>\n",
       "  <tbody>\n",
       "    <tr>\n",
       "      <th>0</th>\n",
       "      <td>1624580081</td>\n",
       "      <td>2016-04-13</td>\n",
       "      <td>0</td>\n",
       "      <td>0</td>\n",
       "      <td>2016-04-13 00:00:00</td>\n",
       "    </tr>\n",
       "    <tr>\n",
       "      <th>1</th>\n",
       "      <td>1624580081</td>\n",
       "      <td>2016-04-13</td>\n",
       "      <td>0</td>\n",
       "      <td>1</td>\n",
       "      <td>2016-04-13 00:01:00</td>\n",
       "    </tr>\n",
       "    <tr>\n",
       "      <th>2</th>\n",
       "      <td>1624580081</td>\n",
       "      <td>2016-04-13</td>\n",
       "      <td>0</td>\n",
       "      <td>2</td>\n",
       "      <td>2016-04-13 00:02:00</td>\n",
       "    </tr>\n",
       "  </tbody>\n",
       "</table>\n",
       "</div>"
      ],
      "text/plain": [
       "           Id ActivityHour  Steps  Minute            DateTime\n",
       "0  1624580081   2016-04-13      0       0 2016-04-13 00:00:00\n",
       "1  1624580081   2016-04-13      0       1 2016-04-13 00:01:00\n",
       "2  1624580081   2016-04-13      0       2 2016-04-13 00:02:00"
      ]
     },
     "execution_count": 48,
     "metadata": {},
     "output_type": "execute_result"
    }
   ],
   "source": [
    "# Started: 14 Oct 2025 06:34  |  Finished: 14 Oct 2025 06:41\n",
    "\n",
    "# Reshape Steps00..Steps59 to per-minute timestamps\n",
    "daily_p[\"ActivityDay\"] = pd.to_datetime(daily_p[\"ActivityDay\"], format=\"%m/%d/%Y\")\n",
    "hourly_p[\"ActivityHour\"] = pd.to_datetime(hourly_p[\"ActivityHour\"])\n",
    "minw_p[\"ActivityHour\"] = pd.to_datetime(minw_p[\"ActivityHour\"])\n",
    "\n",
    "minute_cols = [c for c in minw_p.columns if c.startswith(\"Steps\") and len(c)==7]\n",
    "minute_cols = sorted(minute_cols)\n",
    "\n",
    "long = minw_p.melt(\n",
    "    id_vars=[\"Id\",\"ActivityHour\"],\n",
    "    value_vars=minute_cols,\n",
    "    var_name=\"MinuteCol\",\n",
    "    value_name=\"Steps\"\n",
    ")\n",
    "\n",
    "long[\"Minute\"] = long[\"MinuteCol\"].str.replace(\"Steps\",\"\", regex=False).astype(int)\n",
    "long[\"DateTime\"] = long[\"ActivityHour\"] + pd.to_timedelta(long[\"Minute\"], unit=\"m\")\n",
    "long = long.drop(columns=[\"MinuteCol\"]).sort_values(\"DateTime\").reset_index(drop=True)\n",
    "\n",
    "print(\"Minute rows:\", len(long), \"| range:\", long[\"DateTime\"].min(), \"→\", long[\"DateTime\"].max())\n",
    "long.head(3)\n"
   ]
  },
  {
   "cell_type": "markdown",
   "id": "74200b3c",
   "metadata": {},
   "source": [
    "**Cell 3 — Observation & Interpretation.** If range spans multiple days and the head shows plausible times, the minute‑level table is correct."
   ]
  },
  {
   "cell_type": "markdown",
   "id": "d4f6cbb9",
   "metadata": {},
   "source": [
    "### Cell 4 — Define intensity rules and time‑of‑day bins: Assumptions, Predictions, and Description\n",
    "**Assumptions.** Cadence is a practical proxy for intensity; bin edges reflect typical day partitions used in class.\n",
    "\n",
    "**Prediction.** I expect `is_vigorous` to be relatively rare; `is_active` will be common during days and near‑zero at night.\n",
    "\n",
    "**What this cell does (description).** Compute time‑of‑day labels and Boolean flags for moderate/vigorous/active minutes to enable run detection.\n"
   ]
  },
  {
   "cell_type": "code",
   "execution_count": 49,
   "id": "38792859",
   "metadata": {},
   "outputs": [
    {
     "data": {
      "text/html": [
       "<div>\n",
       "<style scoped>\n",
       "    .dataframe tbody tr th:only-of-type {\n",
       "        vertical-align: middle;\n",
       "    }\n",
       "\n",
       "    .dataframe tbody tr th {\n",
       "        vertical-align: top;\n",
       "    }\n",
       "\n",
       "    .dataframe thead th {\n",
       "        text-align: right;\n",
       "    }\n",
       "</style>\n",
       "<table border=\"1\" class=\"dataframe\">\n",
       "  <thead>\n",
       "    <tr style=\"text-align: right;\">\n",
       "      <th></th>\n",
       "      <th>DateTime</th>\n",
       "      <th>Steps</th>\n",
       "      <th>TimeOfDay</th>\n",
       "      <th>is_moderate</th>\n",
       "      <th>is_vigorous</th>\n",
       "    </tr>\n",
       "  </thead>\n",
       "  <tbody>\n",
       "    <tr>\n",
       "      <th>0</th>\n",
       "      <td>2016-04-13 00:00:00</td>\n",
       "      <td>0</td>\n",
       "      <td>other</td>\n",
       "      <td>False</td>\n",
       "      <td>False</td>\n",
       "    </tr>\n",
       "    <tr>\n",
       "      <th>1</th>\n",
       "      <td>2016-04-13 00:01:00</td>\n",
       "      <td>0</td>\n",
       "      <td>other</td>\n",
       "      <td>False</td>\n",
       "      <td>False</td>\n",
       "    </tr>\n",
       "    <tr>\n",
       "      <th>2</th>\n",
       "      <td>2016-04-13 00:02:00</td>\n",
       "      <td>0</td>\n",
       "      <td>other</td>\n",
       "      <td>False</td>\n",
       "      <td>False</td>\n",
       "    </tr>\n",
       "    <tr>\n",
       "      <th>3</th>\n",
       "      <td>2016-04-13 00:03:00</td>\n",
       "      <td>0</td>\n",
       "      <td>other</td>\n",
       "      <td>False</td>\n",
       "      <td>False</td>\n",
       "    </tr>\n",
       "    <tr>\n",
       "      <th>4</th>\n",
       "      <td>2016-04-13 00:04:00</td>\n",
       "      <td>0</td>\n",
       "      <td>other</td>\n",
       "      <td>False</td>\n",
       "      <td>False</td>\n",
       "    </tr>\n",
       "  </tbody>\n",
       "</table>\n",
       "</div>"
      ],
      "text/plain": [
       "             DateTime  Steps TimeOfDay  is_moderate  is_vigorous\n",
       "0 2016-04-13 00:00:00      0     other        False        False\n",
       "1 2016-04-13 00:01:00      0     other        False        False\n",
       "2 2016-04-13 00:02:00      0     other        False        False\n",
       "3 2016-04-13 00:03:00      0     other        False        False\n",
       "4 2016-04-13 00:04:00      0     other        False        False"
      ]
     },
     "execution_count": 49,
     "metadata": {},
     "output_type": "execute_result"
    }
   ],
   "source": [
    "# Started: 09 Oct 2025 08:10  |  Finished: 09 Oct 2025 08:32\n",
    "\n",
    "# Mark time-of-day bins and intensity flags\n",
    "import pandas as pd\n",
    "\n",
    "TIME_BINS = {\n",
    "    \"morning\":   (pd.Timedelta(hours=6),  pd.Timedelta(hours=11, minutes=59, seconds=59)),\n",
    "    \"afternoon\": (pd.Timedelta(hours=12), pd.Timedelta(hours=17, minutes=59, seconds=59)),\n",
    "    \"evening\":   (pd.Timedelta(hours=18), pd.Timedelta(hours=22, minutes=59, seconds=59)),\n",
    "}\n",
    "\n",
    "MOD_CADENCE = 100  # moderate\n",
    "VIG_CADENCE = 130  # vigorous\n",
    "\n",
    "long[\"TOD\"] = (long[\"DateTime\"] - long[\"DateTime\"].dt.normalize())\n",
    "\n",
    "def label_bin(td):\n",
    "    for name,(lo,hi) in TIME_BINS.items():\n",
    "        if lo <= td <= hi: \n",
    "            return name\n",
    "    return \"other\"\n",
    "\n",
    "long[\"TimeOfDay\"] = long[\"TOD\"].apply(label_bin)\n",
    "long[\"is_moderate\"] = long[\"Steps\"] >= MOD_CADENCE\n",
    "long[\"is_vigorous\"] = long[\"Steps\"] >= VIG_CADENCE\n",
    "long[\"is_active\"]   = long[\"Steps\"] > 0\n",
    "long[\"Date\"] = long[\"DateTime\"].dt.date\n",
    "\n",
    "long[[\"DateTime\",\"Steps\",\"TimeOfDay\",\"is_moderate\",\"is_vigorous\"]].head(5)\n"
   ]
  },
  {
   "cell_type": "markdown",
   "id": "d917c5f9",
   "metadata": {},
   "source": [
    "**Cell 4 — Observation & Interpretation.** Preview should show flags toggling appropriately; most vigorous flags should be False."
   ]
  },
  {
   "cell_type": "markdown",
   "id": "e19679c0",
   "metadata": {},
   "source": [
    "### Cell 5 — Find strict ≥15‑minute consecutive runs: Assumptions, Predictions, and Description\n",
    "**Assumptions.** Using a strict no‑gaps rule may undercount effort but is consistent and easy to replicate.\n",
    "\n",
    "**Prediction.** I expect some `is_active` runs but few/no `is_vigorous` runs for this participant.\n",
    "\n",
    "**What this cell does (description).** Group minutes by (Date × TimeOfDay), scan for any run of True values of length ≥15 for the chosen flag.\n"
   ]
  },
  {
   "cell_type": "code",
   "execution_count": 50,
   "id": "d778886e",
   "metadata": {},
   "outputs": [
    {
     "data": {
      "text/html": [
       "<div>\n",
       "<style scoped>\n",
       "    .dataframe tbody tr th:only-of-type {\n",
       "        vertical-align: middle;\n",
       "    }\n",
       "\n",
       "    .dataframe tbody tr th {\n",
       "        vertical-align: top;\n",
       "    }\n",
       "\n",
       "    .dataframe thead th {\n",
       "        text-align: right;\n",
       "    }\n",
       "</style>\n",
       "<table border=\"1\" class=\"dataframe\">\n",
       "  <thead>\n",
       "    <tr style=\"text-align: right;\">\n",
       "      <th></th>\n",
       "      <th>Date</th>\n",
       "      <th>TimeOfDay</th>\n",
       "      <th>has_is_active_run</th>\n",
       "      <th>has_is_vigorous_run</th>\n",
       "    </tr>\n",
       "  </thead>\n",
       "  <tbody>\n",
       "    <tr>\n",
       "      <th>0</th>\n",
       "      <td>2016-04-13</td>\n",
       "      <td>afternoon</td>\n",
       "      <td>False</td>\n",
       "      <td>False</td>\n",
       "    </tr>\n",
       "    <tr>\n",
       "      <th>1</th>\n",
       "      <td>2016-04-13</td>\n",
       "      <td>evening</td>\n",
       "      <td>False</td>\n",
       "      <td>False</td>\n",
       "    </tr>\n",
       "    <tr>\n",
       "      <th>2</th>\n",
       "      <td>2016-04-13</td>\n",
       "      <td>morning</td>\n",
       "      <td>True</td>\n",
       "      <td>False</td>\n",
       "    </tr>\n",
       "    <tr>\n",
       "      <th>3</th>\n",
       "      <td>2016-04-13</td>\n",
       "      <td>other</td>\n",
       "      <td>False</td>\n",
       "      <td>False</td>\n",
       "    </tr>\n",
       "    <tr>\n",
       "      <th>4</th>\n",
       "      <td>2016-04-14</td>\n",
       "      <td>afternoon</td>\n",
       "      <td>False</td>\n",
       "      <td>False</td>\n",
       "    </tr>\n",
       "    <tr>\n",
       "      <th>5</th>\n",
       "      <td>2016-04-14</td>\n",
       "      <td>evening</td>\n",
       "      <td>False</td>\n",
       "      <td>False</td>\n",
       "    </tr>\n",
       "    <tr>\n",
       "      <th>6</th>\n",
       "      <td>2016-04-14</td>\n",
       "      <td>morning</td>\n",
       "      <td>True</td>\n",
       "      <td>False</td>\n",
       "    </tr>\n",
       "    <tr>\n",
       "      <th>7</th>\n",
       "      <td>2016-04-14</td>\n",
       "      <td>other</td>\n",
       "      <td>False</td>\n",
       "      <td>False</td>\n",
       "    </tr>\n",
       "    <tr>\n",
       "      <th>8</th>\n",
       "      <td>2016-04-15</td>\n",
       "      <td>afternoon</td>\n",
       "      <td>False</td>\n",
       "      <td>False</td>\n",
       "    </tr>\n",
       "    <tr>\n",
       "      <th>9</th>\n",
       "      <td>2016-04-15</td>\n",
       "      <td>evening</td>\n",
       "      <td>False</td>\n",
       "      <td>False</td>\n",
       "    </tr>\n",
       "  </tbody>\n",
       "</table>\n",
       "</div>"
      ],
      "text/plain": [
       "         Date  TimeOfDay  has_is_active_run  has_is_vigorous_run\n",
       "0  2016-04-13  afternoon              False                False\n",
       "1  2016-04-13    evening              False                False\n",
       "2  2016-04-13    morning               True                False\n",
       "3  2016-04-13      other              False                False\n",
       "4  2016-04-14  afternoon              False                False\n",
       "5  2016-04-14    evening              False                False\n",
       "6  2016-04-14    morning               True                False\n",
       "7  2016-04-14      other              False                False\n",
       "8  2016-04-15  afternoon              False                False\n",
       "9  2016-04-15    evening              False                False"
      ]
     },
     "execution_count": 50,
     "metadata": {},
     "output_type": "execute_result"
    }
   ],
   "source": [
    "# Started: 13 Oct 2025 07:55  |  Finished: 13 Oct 2025 08:21\n",
    "\n",
    "# Detect ≥15-minute consecutive runs within each (Date × TimeOfDay)\n",
    "import numpy as np\n",
    "RUN_LEN = 15\n",
    "\n",
    "def consecutive_true_runs(x):\n",
    "    runs = []\n",
    "    start = None; length = 0\n",
    "    for i, val in enumerate(x):\n",
    "        if val:\n",
    "            if start is None: start = i\n",
    "            length += 1\n",
    "        else:\n",
    "            if start is not None:\n",
    "                runs.append((start, length))\n",
    "            start=None; length=0\n",
    "    if start is not None:\n",
    "        runs.append((start, length))\n",
    "    return runs\n",
    "\n",
    "def has_run_ge(x, L=RUN_LEN):\n",
    "    arr = np.asarray(x, dtype=bool)\n",
    "    return any(Len >= L for _, Len in consecutive_true_runs(arr))\n",
    "\n",
    "def summarise_bouts(df, flag_col):\n",
    "    out = []\n",
    "    for (d, tod), g in df.groupby([\"Date\",\"TimeOfDay\"], sort=False):\n",
    "        g = g.sort_values(\"DateTime\")\n",
    "        present = has_run_ge(g[flag_col].values, RUN_LEN)\n",
    "        out.append({\"Date\":d, \"TimeOfDay\":tod, f\"has_{flag_col}_run\":present})\n",
    "    return pd.DataFrame(out)\n",
    "\n",
    "bout_active = summarise_bouts(long, \"is_active\")\n",
    "bout_vig    = summarise_bouts(long, \"is_vigorous\")\n",
    "summary_bouts = pd.merge(bout_active, bout_vig, on=[\"Date\",\"TimeOfDay\"], how=\"outer\").fillna(False)\n",
    "\n",
    "summary_bouts.head(10)\n"
   ]
  },
  {
   "cell_type": "markdown",
   "id": "257e64cb",
   "metadata": {},
   "source": [
    "**Cell 5 — Observation & Interpretation.** The preview shows whether any bins/days pass the 15‑minute test; next plots make patterns clearer."
   ]
  },
  {
   "cell_type": "markdown",
   "id": "6ac5d74b",
   "metadata": {},
   "source": [
    "### Cell 6 — Visualise daily totals: Assumptions, Predictions, and Description\n",
    "**Assumptions.** Daily totals reflect overall volume but not necessarily intensity.\n",
    "\n",
    "**Prediction.** I expect variability across days; spikes might align with possible sustained activity windows.\n",
    "\n",
    "**What this cell does (description).** Line plot of total steps per day to see high/low days before zooming in on cadence patterns.\n"
   ]
  },
  {
   "cell_type": "code",
   "execution_count": 51,
   "id": "2d621b55",
   "metadata": {},
   "outputs": [
    {
     "data": {
      "image/png": "[encoded data removed]",
      "text/plain": [
       "<Figure size 1000x400 with 1 Axes>"
      ]
     },
     "metadata": {},
     "output_type": "display_data"
    }
   ],
   "source": [
    "# Started: 09 Oct 2025 09:37  |  Finished: 09 Oct 2025 09:55\n",
    "\n",
    "# Plot 1: daily total steps (matplotlib only)\n",
    "import matplotlib.pyplot as plt\n",
    "daily_p[\"ActivityDay\"] = pd.to_datetime(daily_p[\"ActivityDay\"])\n",
    "d_sorted = daily_p.sort_values(\"ActivityDay\")\n",
    "\n",
    "plt.figure(figsize=(10,4))\n",
    "plt.plot(d_sorted[\"ActivityDay\"], d_sorted[\"StepTotal\"], marker=\"o\")\n",
    "plt.title(f\"Daily steps – person {PERSON_ID}\")\n",
    "plt.xlabel(\"Date\")\n",
    "plt.ylabel(\"Total steps\")\n",
    "plt.tight_layout()\n",
    "plt.show()\n"
   ]
  },
  {
   "cell_type": "markdown",
   "id": "19c72b31",
   "metadata": {},
   "source": [
    "**Cell 6 — Observation & Interpretation.** We can see there is a peak on the 1 of May, indicating intense activity only on that particular day. The rest of the day are relativly flat and with slight ups and downs."
   ]
  },
  {
   "cell_type": "markdown",
   "id": "3b6281f8",
   "metadata": {},
   "source": [
    "### Cell 7 — Heatmap of minute-by-minute cadence: Assumptions, Predictions, and Description\n",
    "**Assumptions.** Bright continuous bands would suggest extended walking; nights should be dark.\n",
    "\n",
    "**Prediction.** I expect banding mainly during daytime; evenings may show the strongest stretches for this participant.\n",
    "\n",
    "**What this cell does (description).** Create a date × minute‑of‑day matrix of steps/min and display with `imshow` to spot sustained periods.\n"
   ]
  },
  {
   "cell_type": "code",
   "execution_count": 52,
   "id": "a568175e",
   "metadata": {},
   "outputs": [
    {
     "data": {
      "image/png": "[encoded data removed]",
      "text/plain": [
       "<Figure size 1200x500 with 2 Axes>"
      ]
     },
     "metadata": {},
     "output_type": "display_data"
    }
   ],
   "source": [
    "# Started: 13 Oct 2025 09:26  |  Finished: 13 Oct 2025 09:38\n",
    "\n",
    "# Plot 2: minute cadence heatmap (imshow)\n",
    "import numpy as np, matplotlib.pyplot as plt\n",
    "\n",
    "mat = long.copy()\n",
    "mat[\"minute_of_day\"] = mat[\"DateTime\"].dt.hour*60 + mat[\"DateTime\"].dt.minute\n",
    "pivot = mat.pivot_table(index=\"Date\", columns=\"minute_of_day\", values=\"Steps\", aggfunc=\"sum\").fillna(0)\n",
    "\n",
    "plt.figure(figsize=(12,5))\n",
    "plt.imshow(pivot.values, aspect=\"auto\", interpolation=\"nearest\")\n",
    "plt.colorbar(label=\"steps/min\")\n",
    "plt.title(\"Minute cadence heatmap (steps/min)\")\n",
    "plt.xlabel(\"Minute of Day\")\n",
    "plt.ylabel(\"Date\")\n",
    "\n",
    "# Helpful ticks\n",
    "xticks = np.arange(0, pivot.shape[1], 60)\n",
    "plt.xticks(xticks, xticks)\n",
    "yticks = np.arange(0, pivot.shape[0], max(1, pivot.shape[0]//10))\n",
    "plt.yticks(yticks, [str(idx) for idx in pivot.index[yticks]])\n",
    "\n",
    "plt.tight_layout()\n",
    "plt.show()\n"
   ]
  },
  {
   "cell_type": "markdown",
   "id": "767ecb03",
   "metadata": {},
   "source": [
    "**Cell 7 — Observation & Interpretation.** Look for horizontal bright bands; their timing hints at morning/afternoon/evening patterns. Days including 18 of April and 1 of may showed yellow color"
   ]
  },
  {
   "cell_type": "markdown",
   "id": "96115c3d",
   "metadata": {},
   "source": [
    "### Cell 8 — Days with ≥15‑min runs by time‑of‑day: Assumptions, Predictions, and Description\n",
    "**Assumptions.** Aggregating by bins makes the time‑of‑day pattern easier to read than scrolling rows.\n",
    "\n",
    "**Prediction.** I expect some bars for `active` and small/zero bars for `vigorous`.\n",
    "\n",
    "**What this cell does (description).** Bar chart comparing counts of days with ≥15‑min runs across morning/afternoon/evening/other.\n"
   ]
  },
  {
   "cell_type": "code",
   "execution_count": 53,
   "id": "74830d79",
   "metadata": {},
   "outputs": [
    {
     "data": {
      "image/png": "[encoded data removed]",
      "text/plain": [
       "<Figure size 800x400 with 1 Axes>"
      ]
     },
     "metadata": {},
     "output_type": "display_data"
    },
    {
     "data": {
      "text/html": [
       "<div>\n",
       "<style scoped>\n",
       "    .dataframe tbody tr th:only-of-type {\n",
       "        vertical-align: middle;\n",
       "    }\n",
       "\n",
       "    .dataframe tbody tr th {\n",
       "        vertical-align: top;\n",
       "    }\n",
       "\n",
       "    .dataframe thead th {\n",
       "        text-align: right;\n",
       "    }\n",
       "</style>\n",
       "<table border=\"1\" class=\"dataframe\">\n",
       "  <thead>\n",
       "    <tr style=\"text-align: right;\">\n",
       "      <th></th>\n",
       "      <th>has_is_active_run</th>\n",
       "      <th>has_is_vigorous_run</th>\n",
       "    </tr>\n",
       "    <tr>\n",
       "      <th>TimeOfDay</th>\n",
       "      <th></th>\n",
       "      <th></th>\n",
       "    </tr>\n",
       "  </thead>\n",
       "  <tbody>\n",
       "    <tr>\n",
       "      <th>morning</th>\n",
       "      <td>7</td>\n",
       "      <td>1</td>\n",
       "    </tr>\n",
       "    <tr>\n",
       "      <th>afternoon</th>\n",
       "      <td>9</td>\n",
       "      <td>1</td>\n",
       "    </tr>\n",
       "    <tr>\n",
       "      <th>evening</th>\n",
       "      <td>7</td>\n",
       "      <td>0</td>\n",
       "    </tr>\n",
       "    <tr>\n",
       "      <th>other</th>\n",
       "      <td>1</td>\n",
       "      <td>0</td>\n",
       "    </tr>\n",
       "  </tbody>\n",
       "</table>\n",
       "</div>"
      ],
      "text/plain": [
       "           has_is_active_run  has_is_vigorous_run\n",
       "TimeOfDay                                        \n",
       "morning                    7                    1\n",
       "afternoon                  9                    1\n",
       "evening                    7                    0\n",
       "other                      1                    0"
      ]
     },
     "execution_count": 53,
     "metadata": {},
     "output_type": "execute_result"
    }
   ],
   "source": [
    "# Started: 13 Oct 2025 07:54  |  Finished: 13 Oct 2025 08:13\n",
    "\n",
    "# Plot 3: days achieving ≥15‑min runs by time-of-day (bar chart)\n",
    "import matplotlib.pyplot as plt\n",
    "\n",
    "counts = summary_bouts.groupby(\"TimeOfDay\")[[\"has_is_active_run\",\"has_is_vigorous_run\"]].sum()\n",
    "order = [\"morning\",\"afternoon\",\"evening\",\"other\"]\n",
    "counts = counts.reindex(order).fillna(0)\n",
    "\n",
    "labels = counts.index.tolist()\n",
    "active_vals = counts[\"has_is_active_run\"].to_numpy()\n",
    "vig_vals    = counts[\"has_is_vigorous_run\"].to_numpy()\n",
    "\n",
    "x = range(len(labels))\n",
    "width = 0.35\n",
    "\n",
    "plt.figure(figsize=(8,4))\n",
    "plt.bar([i - width/2 for i in x], active_vals, width, label=\"≥15‑min active run\")\n",
    "plt.bar([i + width/2 for i in x], vig_vals,    width, label=\"≥15‑min vigorous run\")\n",
    "plt.title(\"Days achieving ≥15‑minute consecutive runs by time‑of‑day\")\n",
    "plt.xlabel(\"Time of day bin\")\n",
    "plt.ylabel(\"Days\")\n",
    "plt.xticks(list(x), labels)\n",
    "plt.legend()\n",
    "plt.tight_layout()\n",
    "plt.show()\n",
    "\n",
    "counts\n"
   ]
  },
  {
   "cell_type": "markdown",
   "id": "90d79cf0",
   "metadata": {},
   "source": [
    "**Cell 8 — Observation & Interpretation.** Compare bar heights: whichever bin is tallest is the likely time window for sustained runs in this participant."
   ]
  },
  {
   "cell_type": "markdown",
   "id": "7173e724",
   "metadata": {},
   "source": [
    "### Cell 9 — Summary table of counts and rates: Assumptions, Predictions, and Description\n",
    "**Assumptions.** Percentages help me talk about likelihood rather than raw counts (which can be biased by coverage).\n",
    "\n",
    "**Prediction.** I expect higher rates for `active` than for `vigorous` in most bins.\n",
    "\n",
    "**What this cell does (description).** Compute counts and simple percentages of days meeting the ≥15‑min criterion within each time‑of‑day bin.\n"
   ]
  },
  {
   "cell_type": "code",
   "execution_count": 54,
   "id": "01458800",
   "metadata": {},
   "outputs": [
    {
     "data": {
      "text/html": [
       "<div>\n",
       "<style scoped>\n",
       "    .dataframe tbody tr th:only-of-type {\n",
       "        vertical-align: middle;\n",
       "    }\n",
       "\n",
       "    .dataframe tbody tr th {\n",
       "        vertical-align: top;\n",
       "    }\n",
       "\n",
       "    .dataframe thead th {\n",
       "        text-align: right;\n",
       "    }\n",
       "</style>\n",
       "<table border=\"1\" class=\"dataframe\">\n",
       "  <thead>\n",
       "    <tr style=\"text-align: right;\">\n",
       "      <th></th>\n",
       "      <th>total_bin_days</th>\n",
       "      <th>has_is_active_run</th>\n",
       "      <th>has_is_vigorous_run</th>\n",
       "      <th>has_is_active_run_rate</th>\n",
       "      <th>has_is_vigorous_run_rate</th>\n",
       "    </tr>\n",
       "    <tr>\n",
       "      <th>TimeOfDay</th>\n",
       "      <th></th>\n",
       "      <th></th>\n",
       "      <th></th>\n",
       "      <th></th>\n",
       "      <th></th>\n",
       "    </tr>\n",
       "  </thead>\n",
       "  <tbody>\n",
       "    <tr>\n",
       "      <th>morning</th>\n",
       "      <td>31</td>\n",
       "      <td>7</td>\n",
       "      <td>1</td>\n",
       "      <td>22.6</td>\n",
       "      <td>3.2</td>\n",
       "    </tr>\n",
       "    <tr>\n",
       "      <th>afternoon</th>\n",
       "      <td>30</td>\n",
       "      <td>9</td>\n",
       "      <td>1</td>\n",
       "      <td>30.0</td>\n",
       "      <td>3.3</td>\n",
       "    </tr>\n",
       "    <tr>\n",
       "      <th>evening</th>\n",
       "      <td>30</td>\n",
       "      <td>7</td>\n",
       "      <td>0</td>\n",
       "      <td>23.3</td>\n",
       "      <td>0.0</td>\n",
       "    </tr>\n",
       "    <tr>\n",
       "      <th>other</th>\n",
       "      <td>31</td>\n",
       "      <td>1</td>\n",
       "      <td>0</td>\n",
       "      <td>3.2</td>\n",
       "      <td>0.0</td>\n",
       "    </tr>\n",
       "  </tbody>\n",
       "</table>\n",
       "</div>"
      ],
      "text/plain": [
       "           total_bin_days  has_is_active_run  has_is_vigorous_run  \\\n",
       "TimeOfDay                                                           \n",
       "morning                31                  7                    1   \n",
       "afternoon              30                  9                    1   \n",
       "evening                30                  7                    0   \n",
       "other                  31                  1                    0   \n",
       "\n",
       "           has_is_active_run_rate  has_is_vigorous_run_rate  \n",
       "TimeOfDay                                                    \n",
       "morning                      22.6                       3.2  \n",
       "afternoon                    30.0                       3.3  \n",
       "evening                      23.3                       0.0  \n",
       "other                         3.2                       0.0  "
      ]
     },
     "execution_count": 54,
     "metadata": {},
     "output_type": "execute_result"
    }
   ],
   "source": [
    "# Started: 13 Oct 2025 08:22  |  Finished: 13 Oct 2025 08:50\n",
    "\n",
    "# Table: proportions by time-of-day\n",
    "days_by_bin = summary_bouts.groupby(\"TimeOfDay\").size().rename(\"total_bin_days\")\n",
    "hits_active = summary_bouts.groupby(\"TimeOfDay\")[\"has_is_active_run\"].sum()\n",
    "hits_vig    = summary_bouts.groupby(\"TimeOfDay\")[\"has_is_vigorous_run\"].sum()\n",
    "\n",
    "tab = pd.concat([days_by_bin, hits_active, hits_vig], axis=1).fillna(0).astype(int)\n",
    "for col in [\"has_is_active_run\",\"has_is_vigorous_run\"]:\n",
    "    rate = tab[col] / tab[\"total_bin_days\"].replace(0, np.nan)\n",
    "    tab[col + \"_rate\"] = (100*rate).round(1)\n",
    "\n",
    "tab = tab.reindex([\"morning\",\"afternoon\",\"evening\",\"other\"])\n",
    "tab\n"
   ]
  },
  {
   "cell_type": "markdown",
   "id": "2a12f11d",
   "metadata": {},
   "source": [
    "**Cell 9 — Observation & Interpretation.** Use the `_rate` columns to summarise: e.g., “Evening had X% of its days with an active 15‑min run.”"
   ]
  },
  {
   "cell_type": "markdown",
   "id": "730d5e66",
   "metadata": {},
   "source": [
    "\n",
    "## Conclusion\n",
    "- Cadence thresholds (≥100/≥130 steps/min) gave me a simple, reproducible way to talk about intensity from minute steps.  \n",
    "- The strict ≥15‑minute rule probably undercounts effort (a short pause breaks the streak), but it keeps the logic clean and explainable.  \n",
    "- After looking at my plots and table, I’ll summarise clearly **whether** and **when** this participant actually achieves sustained runs, and whether any reach vigorous cadence.  \n",
    "- Next steps for the group: try a relaxed run definition (allow 1–2 “zero” minutes inside a streak), test alternative binning (e.g., late night), and compare across the three IDs.\n"
   ]
  }
 ],
 "metadata": {
  "kernelspec": {
   "display_name": "Python 3",
   "language": "python",
   "name": "python3"
  },
  "language_info": {
   "codemirror_mode": {
    "name": "ipython",
    "version": 3
   },
   "file_extension": ".py",
   "mimetype": "text/x-python",
   "name": "python",
   "nbconvert_exporter": "python",
   "pygments_lexer": "ipython3",
   "version": "3.10.2"
  }
 },
 "nbformat": 4,
 "nbformat_minor": 5
}
